{
 "cells": [
  {
   "cell_type": "code",
   "execution_count": 1,
   "metadata": {
    "ExecuteTime": {
     "end_time": "2020-11-10T13:45:57.997843Z",
     "start_time": "2020-11-10T13:45:54.463157Z"
    }
   },
   "outputs": [],
   "source": [
    "import numpy as np\n",
    "import pandas as pd \n",
    "import matplotlib.pyplot as plt\n",
    "import seaborn as sns\n",
    "import math\n",
    "import statistics\n",
    "import numpy as np\n",
    "import pandas as pd\n",
    "import scipy \n",
    "import scipy.stats\n",
    "import random\n",
    "import warnings\n",
    "warnings.filterwarnings('ignore')\n",
    "import statsmodels.api as sm\n",
    "from sklearn.linear_model import LinearRegression\n",
    "from sklearn.preprocessing import PolynomialFeatures\n",
    "from sklearn.metrics import mean_squared_error\n",
    "\n",
    "%matplotlib inline"
   ]
  },
  {
   "cell_type": "markdown",
   "metadata": {
    "ExecuteTime": {
     "end_time": "2020-11-10T11:16:20.200608Z",
     "start_time": "2020-11-10T11:16:20.197502Z"
    }
   },
   "source": [
    "# Data Preparation"
   ]
  },
  {
   "cell_type": "code",
   "execution_count": 2,
   "metadata": {
    "ExecuteTime": {
     "end_time": "2020-11-10T13:45:58.422639Z",
     "start_time": "2020-11-10T13:45:58.019135Z"
    }
   },
   "outputs": [
    {
     "data": {
      "text/html": [
       "<div>\n",
       "<style scoped>\n",
       "    .dataframe tbody tr th:only-of-type {\n",
       "        vertical-align: middle;\n",
       "    }\n",
       "\n",
       "    .dataframe tbody tr th {\n",
       "        vertical-align: top;\n",
       "    }\n",
       "\n",
       "    .dataframe thead th {\n",
       "        text-align: right;\n",
       "    }\n",
       "</style>\n",
       "<table border=\"1\" class=\"dataframe\">\n",
       "  <thead>\n",
       "    <tr style=\"text-align: right;\">\n",
       "      <th></th>\n",
       "      <th>Unnamed: 0</th>\n",
       "      <th>BOROUGH</th>\n",
       "      <th>NEIGHBORHOOD</th>\n",
       "      <th>BUILDING CLASS CATEGORY</th>\n",
       "      <th>TAX CLASS AT PRESENT</th>\n",
       "      <th>BLOCK</th>\n",
       "      <th>LOT</th>\n",
       "      <th>EASE-MENT</th>\n",
       "      <th>BUILDING CLASS AT PRESENT</th>\n",
       "      <th>ADDRESS</th>\n",
       "      <th>...</th>\n",
       "      <th>RESIDENTIAL UNITS</th>\n",
       "      <th>COMMERCIAL UNITS</th>\n",
       "      <th>TOTAL UNITS</th>\n",
       "      <th>LAND SQUARE FEET</th>\n",
       "      <th>GROSS SQUARE FEET</th>\n",
       "      <th>YEAR BUILT</th>\n",
       "      <th>TAX CLASS AT TIME OF SALE</th>\n",
       "      <th>BUILDING CLASS AT TIME OF SALE</th>\n",
       "      <th>SALE PRICE</th>\n",
       "      <th>SALE DATE</th>\n",
       "    </tr>\n",
       "  </thead>\n",
       "  <tbody>\n",
       "    <tr>\n",
       "      <th>0</th>\n",
       "      <td>4</td>\n",
       "      <td>1</td>\n",
       "      <td>ALPHABET CITY</td>\n",
       "      <td>07 RENTALS - WALKUP APARTMENTS</td>\n",
       "      <td>2A</td>\n",
       "      <td>392</td>\n",
       "      <td>6</td>\n",
       "      <td></td>\n",
       "      <td>C2</td>\n",
       "      <td>153 AVENUE B</td>\n",
       "      <td>...</td>\n",
       "      <td>5</td>\n",
       "      <td>0</td>\n",
       "      <td>5</td>\n",
       "      <td>1633</td>\n",
       "      <td>6440</td>\n",
       "      <td>1900</td>\n",
       "      <td>2</td>\n",
       "      <td>C2</td>\n",
       "      <td>6625000</td>\n",
       "      <td>2017-07-19 00:00:00</td>\n",
       "    </tr>\n",
       "    <tr>\n",
       "      <th>1</th>\n",
       "      <td>5</td>\n",
       "      <td>1</td>\n",
       "      <td>ALPHABET CITY</td>\n",
       "      <td>07 RENTALS - WALKUP APARTMENTS</td>\n",
       "      <td>2</td>\n",
       "      <td>399</td>\n",
       "      <td>26</td>\n",
       "      <td></td>\n",
       "      <td>C7</td>\n",
       "      <td>234 EAST 4TH   STREET</td>\n",
       "      <td>...</td>\n",
       "      <td>28</td>\n",
       "      <td>3</td>\n",
       "      <td>31</td>\n",
       "      <td>4616</td>\n",
       "      <td>18690</td>\n",
       "      <td>1900</td>\n",
       "      <td>2</td>\n",
       "      <td>C7</td>\n",
       "      <td>-</td>\n",
       "      <td>2016-12-14 00:00:00</td>\n",
       "    </tr>\n",
       "    <tr>\n",
       "      <th>2</th>\n",
       "      <td>6</td>\n",
       "      <td>1</td>\n",
       "      <td>ALPHABET CITY</td>\n",
       "      <td>07 RENTALS - WALKUP APARTMENTS</td>\n",
       "      <td>2</td>\n",
       "      <td>399</td>\n",
       "      <td>39</td>\n",
       "      <td></td>\n",
       "      <td>C7</td>\n",
       "      <td>197 EAST 3RD   STREET</td>\n",
       "      <td>...</td>\n",
       "      <td>16</td>\n",
       "      <td>1</td>\n",
       "      <td>17</td>\n",
       "      <td>2212</td>\n",
       "      <td>7803</td>\n",
       "      <td>1900</td>\n",
       "      <td>2</td>\n",
       "      <td>C7</td>\n",
       "      <td>-</td>\n",
       "      <td>2016-12-09 00:00:00</td>\n",
       "    </tr>\n",
       "    <tr>\n",
       "      <th>3</th>\n",
       "      <td>7</td>\n",
       "      <td>1</td>\n",
       "      <td>ALPHABET CITY</td>\n",
       "      <td>07 RENTALS - WALKUP APARTMENTS</td>\n",
       "      <td>2B</td>\n",
       "      <td>402</td>\n",
       "      <td>21</td>\n",
       "      <td></td>\n",
       "      <td>C4</td>\n",
       "      <td>154 EAST 7TH STREET</td>\n",
       "      <td>...</td>\n",
       "      <td>10</td>\n",
       "      <td>0</td>\n",
       "      <td>10</td>\n",
       "      <td>2272</td>\n",
       "      <td>6794</td>\n",
       "      <td>1913</td>\n",
       "      <td>2</td>\n",
       "      <td>C4</td>\n",
       "      <td>3936272</td>\n",
       "      <td>2016-09-23 00:00:00</td>\n",
       "    </tr>\n",
       "    <tr>\n",
       "      <th>4</th>\n",
       "      <td>8</td>\n",
       "      <td>1</td>\n",
       "      <td>ALPHABET CITY</td>\n",
       "      <td>07 RENTALS - WALKUP APARTMENTS</td>\n",
       "      <td>2A</td>\n",
       "      <td>404</td>\n",
       "      <td>55</td>\n",
       "      <td></td>\n",
       "      <td>C2</td>\n",
       "      <td>301 EAST 10TH   STREET</td>\n",
       "      <td>...</td>\n",
       "      <td>6</td>\n",
       "      <td>0</td>\n",
       "      <td>6</td>\n",
       "      <td>2369</td>\n",
       "      <td>4615</td>\n",
       "      <td>1900</td>\n",
       "      <td>2</td>\n",
       "      <td>C2</td>\n",
       "      <td>8000000</td>\n",
       "      <td>2016-11-17 00:00:00</td>\n",
       "    </tr>\n",
       "  </tbody>\n",
       "</table>\n",
       "<p>5 rows × 22 columns</p>\n",
       "</div>"
      ],
      "text/plain": [
       "   Unnamed: 0  BOROUGH   NEIGHBORHOOD  \\\n",
       "0           4        1  ALPHABET CITY   \n",
       "1           5        1  ALPHABET CITY   \n",
       "2           6        1  ALPHABET CITY   \n",
       "3           7        1  ALPHABET CITY   \n",
       "4           8        1  ALPHABET CITY   \n",
       "\n",
       "                       BUILDING CLASS CATEGORY TAX CLASS AT PRESENT  BLOCK  \\\n",
       "0  07 RENTALS - WALKUP APARTMENTS                                2A    392   \n",
       "1  07 RENTALS - WALKUP APARTMENTS                                 2    399   \n",
       "2  07 RENTALS - WALKUP APARTMENTS                                 2    399   \n",
       "3  07 RENTALS - WALKUP APARTMENTS                                2B    402   \n",
       "4  07 RENTALS - WALKUP APARTMENTS                                2A    404   \n",
       "\n",
       "   LOT EASE-MENT BUILDING CLASS AT PRESENT                 ADDRESS  ...  \\\n",
       "0    6                                  C2            153 AVENUE B  ...   \n",
       "1   26                                  C7   234 EAST 4TH   STREET  ...   \n",
       "2   39                                  C7   197 EAST 3RD   STREET  ...   \n",
       "3   21                                  C4     154 EAST 7TH STREET  ...   \n",
       "4   55                                  C2  301 EAST 10TH   STREET  ...   \n",
       "\n",
       "  RESIDENTIAL UNITS  COMMERCIAL UNITS  TOTAL UNITS  LAND SQUARE FEET  \\\n",
       "0                 5                 0            5              1633   \n",
       "1                28                 3           31              4616   \n",
       "2                16                 1           17              2212   \n",
       "3                10                 0           10              2272   \n",
       "4                 6                 0            6              2369   \n",
       "\n",
       "   GROSS SQUARE FEET YEAR BUILT TAX CLASS AT TIME OF SALE  \\\n",
       "0               6440       1900                         2   \n",
       "1              18690       1900                         2   \n",
       "2               7803       1900                         2   \n",
       "3               6794       1913                         2   \n",
       "4               4615       1900                         2   \n",
       "\n",
       "   BUILDING CLASS AT TIME OF SALE  SALE PRICE            SALE DATE  \n",
       "0                              C2     6625000  2017-07-19 00:00:00  \n",
       "1                              C7         -    2016-12-14 00:00:00  \n",
       "2                              C7         -    2016-12-09 00:00:00  \n",
       "3                              C4     3936272  2016-09-23 00:00:00  \n",
       "4                              C2     8000000  2016-11-17 00:00:00  \n",
       "\n",
       "[5 rows x 22 columns]"
      ]
     },
     "execution_count": 2,
     "metadata": {},
     "output_type": "execute_result"
    }
   ],
   "source": [
    "nyc = pd.read_csv('~/Downloads/PYTN041ONL/Dataset/nyc-rolling-sales.csv')\n",
    "nyc.head()"
   ]
  },
  {
   "cell_type": "code",
   "execution_count": 3,
   "metadata": {
    "ExecuteTime": {
     "end_time": "2020-11-10T13:45:58.455611Z",
     "start_time": "2020-11-10T13:45:58.426891Z"
    }
   },
   "outputs": [
    {
     "data": {
      "text/html": [
       "<div>\n",
       "<style scoped>\n",
       "    .dataframe tbody tr th:only-of-type {\n",
       "        vertical-align: middle;\n",
       "    }\n",
       "\n",
       "    .dataframe tbody tr th {\n",
       "        vertical-align: top;\n",
       "    }\n",
       "\n",
       "    .dataframe thead th {\n",
       "        text-align: right;\n",
       "    }\n",
       "</style>\n",
       "<table border=\"1\" class=\"dataframe\">\n",
       "  <thead>\n",
       "    <tr style=\"text-align: right;\">\n",
       "      <th></th>\n",
       "      <th>Unnamed: 0</th>\n",
       "      <th>BOROUGH</th>\n",
       "      <th>NEIGHBORHOOD</th>\n",
       "      <th>BUILDING CLASS CATEGORY</th>\n",
       "      <th>TAX CLASS AT PRESENT</th>\n",
       "      <th>BLOCK</th>\n",
       "      <th>LOT</th>\n",
       "      <th>EASE-MENT</th>\n",
       "      <th>BUILDING CLASS AT PRESENT</th>\n",
       "      <th>ADDRESS</th>\n",
       "      <th>...</th>\n",
       "      <th>RESIDENTIAL UNITS</th>\n",
       "      <th>COMMERCIAL UNITS</th>\n",
       "      <th>TOTAL UNITS</th>\n",
       "      <th>LAND SQUARE FEET</th>\n",
       "      <th>GROSS SQUARE FEET</th>\n",
       "      <th>YEAR BUILT</th>\n",
       "      <th>TAX CLASS AT TIME OF SALE</th>\n",
       "      <th>BUILDING CLASS AT TIME OF SALE</th>\n",
       "      <th>SALE PRICE</th>\n",
       "      <th>SALE DATE</th>\n",
       "    </tr>\n",
       "  </thead>\n",
       "  <tbody>\n",
       "    <tr>\n",
       "      <th>84543</th>\n",
       "      <td>8409</td>\n",
       "      <td>5</td>\n",
       "      <td>WOODROW</td>\n",
       "      <td>02 TWO FAMILY DWELLINGS</td>\n",
       "      <td>1</td>\n",
       "      <td>7349</td>\n",
       "      <td>34</td>\n",
       "      <td></td>\n",
       "      <td>B9</td>\n",
       "      <td>37 QUAIL LANE</td>\n",
       "      <td>...</td>\n",
       "      <td>2</td>\n",
       "      <td>0</td>\n",
       "      <td>2</td>\n",
       "      <td>2400</td>\n",
       "      <td>2575</td>\n",
       "      <td>1998</td>\n",
       "      <td>1</td>\n",
       "      <td>B9</td>\n",
       "      <td>450000</td>\n",
       "      <td>2016-11-28 00:00:00</td>\n",
       "    </tr>\n",
       "    <tr>\n",
       "      <th>84544</th>\n",
       "      <td>8410</td>\n",
       "      <td>5</td>\n",
       "      <td>WOODROW</td>\n",
       "      <td>02 TWO FAMILY DWELLINGS</td>\n",
       "      <td>1</td>\n",
       "      <td>7349</td>\n",
       "      <td>78</td>\n",
       "      <td></td>\n",
       "      <td>B9</td>\n",
       "      <td>32 PHEASANT LANE</td>\n",
       "      <td>...</td>\n",
       "      <td>2</td>\n",
       "      <td>0</td>\n",
       "      <td>2</td>\n",
       "      <td>2498</td>\n",
       "      <td>2377</td>\n",
       "      <td>1998</td>\n",
       "      <td>1</td>\n",
       "      <td>B9</td>\n",
       "      <td>550000</td>\n",
       "      <td>2017-04-21 00:00:00</td>\n",
       "    </tr>\n",
       "    <tr>\n",
       "      <th>84545</th>\n",
       "      <td>8411</td>\n",
       "      <td>5</td>\n",
       "      <td>WOODROW</td>\n",
       "      <td>02 TWO FAMILY DWELLINGS</td>\n",
       "      <td>1</td>\n",
       "      <td>7351</td>\n",
       "      <td>60</td>\n",
       "      <td></td>\n",
       "      <td>B2</td>\n",
       "      <td>49 PITNEY AVENUE</td>\n",
       "      <td>...</td>\n",
       "      <td>2</td>\n",
       "      <td>0</td>\n",
       "      <td>2</td>\n",
       "      <td>4000</td>\n",
       "      <td>1496</td>\n",
       "      <td>1925</td>\n",
       "      <td>1</td>\n",
       "      <td>B2</td>\n",
       "      <td>460000</td>\n",
       "      <td>2017-07-05 00:00:00</td>\n",
       "    </tr>\n",
       "    <tr>\n",
       "      <th>84546</th>\n",
       "      <td>8412</td>\n",
       "      <td>5</td>\n",
       "      <td>WOODROW</td>\n",
       "      <td>22 STORE BUILDINGS</td>\n",
       "      <td>4</td>\n",
       "      <td>7100</td>\n",
       "      <td>28</td>\n",
       "      <td></td>\n",
       "      <td>K6</td>\n",
       "      <td>2730 ARTHUR KILL ROAD</td>\n",
       "      <td>...</td>\n",
       "      <td>0</td>\n",
       "      <td>7</td>\n",
       "      <td>7</td>\n",
       "      <td>208033</td>\n",
       "      <td>64117</td>\n",
       "      <td>2001</td>\n",
       "      <td>4</td>\n",
       "      <td>K6</td>\n",
       "      <td>11693337</td>\n",
       "      <td>2016-12-21 00:00:00</td>\n",
       "    </tr>\n",
       "    <tr>\n",
       "      <th>84547</th>\n",
       "      <td>8413</td>\n",
       "      <td>5</td>\n",
       "      <td>WOODROW</td>\n",
       "      <td>35 INDOOR PUBLIC AND CULTURAL FACILITIES</td>\n",
       "      <td>4</td>\n",
       "      <td>7105</td>\n",
       "      <td>679</td>\n",
       "      <td></td>\n",
       "      <td>P9</td>\n",
       "      <td>155 CLAY PIT ROAD</td>\n",
       "      <td>...</td>\n",
       "      <td>0</td>\n",
       "      <td>1</td>\n",
       "      <td>1</td>\n",
       "      <td>10796</td>\n",
       "      <td>2400</td>\n",
       "      <td>2006</td>\n",
       "      <td>4</td>\n",
       "      <td>P9</td>\n",
       "      <td>69300</td>\n",
       "      <td>2016-10-27 00:00:00</td>\n",
       "    </tr>\n",
       "  </tbody>\n",
       "</table>\n",
       "<p>5 rows × 22 columns</p>\n",
       "</div>"
      ],
      "text/plain": [
       "       Unnamed: 0  BOROUGH NEIGHBORHOOD  \\\n",
       "84543        8409        5      WOODROW   \n",
       "84544        8410        5      WOODROW   \n",
       "84545        8411        5      WOODROW   \n",
       "84546        8412        5      WOODROW   \n",
       "84547        8413        5      WOODROW   \n",
       "\n",
       "                           BUILDING CLASS CATEGORY TAX CLASS AT PRESENT  \\\n",
       "84543  02 TWO FAMILY DWELLINGS                                        1   \n",
       "84544  02 TWO FAMILY DWELLINGS                                        1   \n",
       "84545  02 TWO FAMILY DWELLINGS                                        1   \n",
       "84546  22 STORE BUILDINGS                                             4   \n",
       "84547  35 INDOOR PUBLIC AND CULTURAL FACILITIES                       4   \n",
       "\n",
       "       BLOCK  LOT EASE-MENT BUILDING CLASS AT PRESENT                ADDRESS  \\\n",
       "84543   7349   34                                  B9          37 QUAIL LANE   \n",
       "84544   7349   78                                  B9       32 PHEASANT LANE   \n",
       "84545   7351   60                                  B2       49 PITNEY AVENUE   \n",
       "84546   7100   28                                  K6  2730 ARTHUR KILL ROAD   \n",
       "84547   7105  679                                  P9      155 CLAY PIT ROAD   \n",
       "\n",
       "       ... RESIDENTIAL UNITS  COMMERCIAL UNITS  TOTAL UNITS  LAND SQUARE FEET  \\\n",
       "84543  ...                 2                 0            2              2400   \n",
       "84544  ...                 2                 0            2              2498   \n",
       "84545  ...                 2                 0            2              4000   \n",
       "84546  ...                 0                 7            7            208033   \n",
       "84547  ...                 0                 1            1             10796   \n",
       "\n",
       "       GROSS SQUARE FEET YEAR BUILT TAX CLASS AT TIME OF SALE  \\\n",
       "84543               2575       1998                         1   \n",
       "84544               2377       1998                         1   \n",
       "84545               1496       1925                         1   \n",
       "84546              64117       2001                         4   \n",
       "84547               2400       2006                         4   \n",
       "\n",
       "       BUILDING CLASS AT TIME OF SALE  SALE PRICE            SALE DATE  \n",
       "84543                              B9      450000  2016-11-28 00:00:00  \n",
       "84544                              B9      550000  2017-04-21 00:00:00  \n",
       "84545                              B2      460000  2017-07-05 00:00:00  \n",
       "84546                              K6    11693337  2016-12-21 00:00:00  \n",
       "84547                              P9       69300  2016-10-27 00:00:00  \n",
       "\n",
       "[5 rows x 22 columns]"
      ]
     },
     "execution_count": 3,
     "metadata": {},
     "output_type": "execute_result"
    }
   ],
   "source": [
    "nyc.tail()"
   ]
  },
  {
   "cell_type": "code",
   "execution_count": 4,
   "metadata": {
    "ExecuteTime": {
     "end_time": "2020-11-10T13:45:58.614523Z",
     "start_time": "2020-11-10T13:45:58.459770Z"
    }
   },
   "outputs": [
    {
     "name": "stdout",
     "output_type": "stream",
     "text": [
      "<class 'pandas.core.frame.DataFrame'>\n",
      "RangeIndex: 84548 entries, 0 to 84547\n",
      "Data columns (total 22 columns):\n",
      " #   Column                          Non-Null Count  Dtype \n",
      "---  ------                          --------------  ----- \n",
      " 0   Unnamed: 0                      84548 non-null  int64 \n",
      " 1   BOROUGH                         84548 non-null  int64 \n",
      " 2   NEIGHBORHOOD                    84548 non-null  object\n",
      " 3   BUILDING CLASS CATEGORY         84548 non-null  object\n",
      " 4   TAX CLASS AT PRESENT            84548 non-null  object\n",
      " 5   BLOCK                           84548 non-null  int64 \n",
      " 6   LOT                             84548 non-null  int64 \n",
      " 7   EASE-MENT                       84548 non-null  object\n",
      " 8   BUILDING CLASS AT PRESENT       84548 non-null  object\n",
      " 9   ADDRESS                         84548 non-null  object\n",
      " 10  APARTMENT NUMBER                84548 non-null  object\n",
      " 11  ZIP CODE                        84548 non-null  int64 \n",
      " 12  RESIDENTIAL UNITS               84548 non-null  int64 \n",
      " 13  COMMERCIAL UNITS                84548 non-null  int64 \n",
      " 14  TOTAL UNITS                     84548 non-null  int64 \n",
      " 15  LAND SQUARE FEET                84548 non-null  object\n",
      " 16  GROSS SQUARE FEET               84548 non-null  object\n",
      " 17  YEAR BUILT                      84548 non-null  int64 \n",
      " 18  TAX CLASS AT TIME OF SALE       84548 non-null  int64 \n",
      " 19  BUILDING CLASS AT TIME OF SALE  84548 non-null  object\n",
      " 20  SALE PRICE                      84548 non-null  object\n",
      " 21  SALE DATE                       84548 non-null  object\n",
      "dtypes: int64(10), object(12)\n",
      "memory usage: 14.2+ MB\n"
     ]
    }
   ],
   "source": [
    "nyc.info()"
   ]
  },
  {
   "cell_type": "code",
   "execution_count": 5,
   "metadata": {
    "ExecuteTime": {
     "end_time": "2020-11-10T13:45:58.634223Z",
     "start_time": "2020-11-10T13:45:58.623999Z"
    }
   },
   "outputs": [
    {
     "data": {
      "text/plain": [
       "array(['Unnamed: 0', 'BOROUGH', 'NEIGHBORHOOD', 'BUILDING CLASS CATEGORY',\n",
       "       'TAX CLASS AT PRESENT', 'BLOCK', 'LOT', 'EASE-MENT',\n",
       "       'BUILDING CLASS AT PRESENT', 'ADDRESS', 'APARTMENT NUMBER',\n",
       "       'ZIP CODE', 'RESIDENTIAL UNITS', 'COMMERCIAL UNITS', 'TOTAL UNITS',\n",
       "       'LAND SQUARE FEET', 'GROSS SQUARE FEET', 'YEAR BUILT',\n",
       "       'TAX CLASS AT TIME OF SALE', 'BUILDING CLASS AT TIME OF SALE',\n",
       "       'SALE PRICE', 'SALE DATE'], dtype=object)"
      ]
     },
     "execution_count": 5,
     "metadata": {},
     "output_type": "execute_result"
    }
   ],
   "source": [
    "nyc.columns.values"
   ]
  },
  {
   "cell_type": "code",
   "execution_count": 6,
   "metadata": {
    "ExecuteTime": {
     "end_time": "2020-11-10T13:45:58.649800Z",
     "start_time": "2020-11-10T13:45:58.639975Z"
    }
   },
   "outputs": [
    {
     "data": {
      "text/plain": [
       "(84548, 22)"
      ]
     },
     "execution_count": 6,
     "metadata": {},
     "output_type": "execute_result"
    }
   ],
   "source": [
    "nyc.shape"
   ]
  },
  {
   "cell_type": "code",
   "execution_count": 7,
   "metadata": {
    "ExecuteTime": {
     "end_time": "2020-11-10T13:45:58.769007Z",
     "start_time": "2020-11-10T13:45:58.654486Z"
    }
   },
   "outputs": [],
   "source": [
    "nyc['BOROUGH'][nyc['BOROUGH'] == 1] = 'Manhattan'\n",
    "nyc['BOROUGH'][nyc['BOROUGH'] == 2] = 'Bronx'\n",
    "nyc['BOROUGH'][nyc['BOROUGH'] == 3] = 'Brooklyn'\n",
    "nyc['BOROUGH'][nyc['BOROUGH'] == 4] = 'Queens'\n",
    "nyc['BOROUGH'][nyc['BOROUGH'] == 5] = 'Staten Island'"
   ]
  },
  {
   "cell_type": "code",
   "execution_count": 8,
   "metadata": {
    "ExecuteTime": {
     "end_time": "2020-11-10T13:45:58.852771Z",
     "start_time": "2020-11-10T13:45:58.782144Z"
    }
   },
   "outputs": [
    {
     "data": {
      "text/html": [
       "<div>\n",
       "<style scoped>\n",
       "    .dataframe tbody tr th:only-of-type {\n",
       "        vertical-align: middle;\n",
       "    }\n",
       "\n",
       "    .dataframe tbody tr th {\n",
       "        vertical-align: top;\n",
       "    }\n",
       "\n",
       "    .dataframe thead th {\n",
       "        text-align: right;\n",
       "    }\n",
       "</style>\n",
       "<table border=\"1\" class=\"dataframe\">\n",
       "  <thead>\n",
       "    <tr style=\"text-align: right;\">\n",
       "      <th></th>\n",
       "      <th>Unnamed: 0</th>\n",
       "      <th>BOROUGH</th>\n",
       "      <th>NEIGHBORHOOD</th>\n",
       "      <th>BUILDING CLASS CATEGORY</th>\n",
       "      <th>TAX CLASS AT PRESENT</th>\n",
       "      <th>BLOCK</th>\n",
       "      <th>LOT</th>\n",
       "      <th>EASE-MENT</th>\n",
       "      <th>BUILDING CLASS AT PRESENT</th>\n",
       "      <th>ADDRESS</th>\n",
       "      <th>...</th>\n",
       "      <th>RESIDENTIAL UNITS</th>\n",
       "      <th>COMMERCIAL UNITS</th>\n",
       "      <th>TOTAL UNITS</th>\n",
       "      <th>LAND SQUARE FEET</th>\n",
       "      <th>GROSS SQUARE FEET</th>\n",
       "      <th>YEAR BUILT</th>\n",
       "      <th>TAX CLASS AT TIME OF SALE</th>\n",
       "      <th>BUILDING CLASS AT TIME OF SALE</th>\n",
       "      <th>SALE PRICE</th>\n",
       "      <th>SALE DATE</th>\n",
       "    </tr>\n",
       "  </thead>\n",
       "  <tbody>\n",
       "    <tr>\n",
       "      <th>0</th>\n",
       "      <td>4</td>\n",
       "      <td>Manhattan</td>\n",
       "      <td>ALPHABET CITY</td>\n",
       "      <td>07 RENTALS - WALKUP APARTMENTS</td>\n",
       "      <td>2A</td>\n",
       "      <td>392</td>\n",
       "      <td>6</td>\n",
       "      <td></td>\n",
       "      <td>C2</td>\n",
       "      <td>153 AVENUE B</td>\n",
       "      <td>...</td>\n",
       "      <td>5</td>\n",
       "      <td>0</td>\n",
       "      <td>5</td>\n",
       "      <td>1633</td>\n",
       "      <td>6440</td>\n",
       "      <td>1900</td>\n",
       "      <td>2</td>\n",
       "      <td>C2</td>\n",
       "      <td>6625000</td>\n",
       "      <td>2017-07-19 00:00:00</td>\n",
       "    </tr>\n",
       "    <tr>\n",
       "      <th>1</th>\n",
       "      <td>5</td>\n",
       "      <td>Manhattan</td>\n",
       "      <td>ALPHABET CITY</td>\n",
       "      <td>07 RENTALS - WALKUP APARTMENTS</td>\n",
       "      <td>2</td>\n",
       "      <td>399</td>\n",
       "      <td>26</td>\n",
       "      <td></td>\n",
       "      <td>C7</td>\n",
       "      <td>234 EAST 4TH   STREET</td>\n",
       "      <td>...</td>\n",
       "      <td>28</td>\n",
       "      <td>3</td>\n",
       "      <td>31</td>\n",
       "      <td>4616</td>\n",
       "      <td>18690</td>\n",
       "      <td>1900</td>\n",
       "      <td>2</td>\n",
       "      <td>C7</td>\n",
       "      <td>-</td>\n",
       "      <td>2016-12-14 00:00:00</td>\n",
       "    </tr>\n",
       "    <tr>\n",
       "      <th>2</th>\n",
       "      <td>6</td>\n",
       "      <td>Manhattan</td>\n",
       "      <td>ALPHABET CITY</td>\n",
       "      <td>07 RENTALS - WALKUP APARTMENTS</td>\n",
       "      <td>2</td>\n",
       "      <td>399</td>\n",
       "      <td>39</td>\n",
       "      <td></td>\n",
       "      <td>C7</td>\n",
       "      <td>197 EAST 3RD   STREET</td>\n",
       "      <td>...</td>\n",
       "      <td>16</td>\n",
       "      <td>1</td>\n",
       "      <td>17</td>\n",
       "      <td>2212</td>\n",
       "      <td>7803</td>\n",
       "      <td>1900</td>\n",
       "      <td>2</td>\n",
       "      <td>C7</td>\n",
       "      <td>-</td>\n",
       "      <td>2016-12-09 00:00:00</td>\n",
       "    </tr>\n",
       "    <tr>\n",
       "      <th>3</th>\n",
       "      <td>7</td>\n",
       "      <td>Manhattan</td>\n",
       "      <td>ALPHABET CITY</td>\n",
       "      <td>07 RENTALS - WALKUP APARTMENTS</td>\n",
       "      <td>2B</td>\n",
       "      <td>402</td>\n",
       "      <td>21</td>\n",
       "      <td></td>\n",
       "      <td>C4</td>\n",
       "      <td>154 EAST 7TH STREET</td>\n",
       "      <td>...</td>\n",
       "      <td>10</td>\n",
       "      <td>0</td>\n",
       "      <td>10</td>\n",
       "      <td>2272</td>\n",
       "      <td>6794</td>\n",
       "      <td>1913</td>\n",
       "      <td>2</td>\n",
       "      <td>C4</td>\n",
       "      <td>3936272</td>\n",
       "      <td>2016-09-23 00:00:00</td>\n",
       "    </tr>\n",
       "    <tr>\n",
       "      <th>4</th>\n",
       "      <td>8</td>\n",
       "      <td>Manhattan</td>\n",
       "      <td>ALPHABET CITY</td>\n",
       "      <td>07 RENTALS - WALKUP APARTMENTS</td>\n",
       "      <td>2A</td>\n",
       "      <td>404</td>\n",
       "      <td>55</td>\n",
       "      <td></td>\n",
       "      <td>C2</td>\n",
       "      <td>301 EAST 10TH   STREET</td>\n",
       "      <td>...</td>\n",
       "      <td>6</td>\n",
       "      <td>0</td>\n",
       "      <td>6</td>\n",
       "      <td>2369</td>\n",
       "      <td>4615</td>\n",
       "      <td>1900</td>\n",
       "      <td>2</td>\n",
       "      <td>C2</td>\n",
       "      <td>8000000</td>\n",
       "      <td>2016-11-17 00:00:00</td>\n",
       "    </tr>\n",
       "    <tr>\n",
       "      <th>5</th>\n",
       "      <td>9</td>\n",
       "      <td>Manhattan</td>\n",
       "      <td>ALPHABET CITY</td>\n",
       "      <td>07 RENTALS - WALKUP APARTMENTS</td>\n",
       "      <td>2</td>\n",
       "      <td>405</td>\n",
       "      <td>16</td>\n",
       "      <td></td>\n",
       "      <td>C4</td>\n",
       "      <td>516 EAST 12TH   STREET</td>\n",
       "      <td>...</td>\n",
       "      <td>20</td>\n",
       "      <td>0</td>\n",
       "      <td>20</td>\n",
       "      <td>2581</td>\n",
       "      <td>9730</td>\n",
       "      <td>1900</td>\n",
       "      <td>2</td>\n",
       "      <td>C4</td>\n",
       "      <td>-</td>\n",
       "      <td>2017-07-20 00:00:00</td>\n",
       "    </tr>\n",
       "    <tr>\n",
       "      <th>6</th>\n",
       "      <td>10</td>\n",
       "      <td>Manhattan</td>\n",
       "      <td>ALPHABET CITY</td>\n",
       "      <td>07 RENTALS - WALKUP APARTMENTS</td>\n",
       "      <td>2B</td>\n",
       "      <td>406</td>\n",
       "      <td>32</td>\n",
       "      <td></td>\n",
       "      <td>C4</td>\n",
       "      <td>210 AVENUE B</td>\n",
       "      <td>...</td>\n",
       "      <td>8</td>\n",
       "      <td>0</td>\n",
       "      <td>8</td>\n",
       "      <td>1750</td>\n",
       "      <td>4226</td>\n",
       "      <td>1920</td>\n",
       "      <td>2</td>\n",
       "      <td>C4</td>\n",
       "      <td>3192840</td>\n",
       "      <td>2016-09-23 00:00:00</td>\n",
       "    </tr>\n",
       "    <tr>\n",
       "      <th>7</th>\n",
       "      <td>11</td>\n",
       "      <td>Manhattan</td>\n",
       "      <td>ALPHABET CITY</td>\n",
       "      <td>07 RENTALS - WALKUP APARTMENTS</td>\n",
       "      <td>2</td>\n",
       "      <td>407</td>\n",
       "      <td>18</td>\n",
       "      <td></td>\n",
       "      <td>C7</td>\n",
       "      <td>520 EAST 14TH   STREET</td>\n",
       "      <td>...</td>\n",
       "      <td>44</td>\n",
       "      <td>2</td>\n",
       "      <td>46</td>\n",
       "      <td>5163</td>\n",
       "      <td>21007</td>\n",
       "      <td>1900</td>\n",
       "      <td>2</td>\n",
       "      <td>C7</td>\n",
       "      <td>-</td>\n",
       "      <td>2017-07-20 00:00:00</td>\n",
       "    </tr>\n",
       "    <tr>\n",
       "      <th>8</th>\n",
       "      <td>12</td>\n",
       "      <td>Manhattan</td>\n",
       "      <td>ALPHABET CITY</td>\n",
       "      <td>08 RENTALS - ELEVATOR APARTMENTS</td>\n",
       "      <td>2</td>\n",
       "      <td>379</td>\n",
       "      <td>34</td>\n",
       "      <td></td>\n",
       "      <td>D5</td>\n",
       "      <td>141 AVENUE D</td>\n",
       "      <td>...</td>\n",
       "      <td>15</td>\n",
       "      <td>0</td>\n",
       "      <td>15</td>\n",
       "      <td>1534</td>\n",
       "      <td>9198</td>\n",
       "      <td>1920</td>\n",
       "      <td>2</td>\n",
       "      <td>D5</td>\n",
       "      <td>-</td>\n",
       "      <td>2017-06-20 00:00:00</td>\n",
       "    </tr>\n",
       "    <tr>\n",
       "      <th>9</th>\n",
       "      <td>13</td>\n",
       "      <td>Manhattan</td>\n",
       "      <td>ALPHABET CITY</td>\n",
       "      <td>08 RENTALS - ELEVATOR APARTMENTS</td>\n",
       "      <td>2</td>\n",
       "      <td>387</td>\n",
       "      <td>153</td>\n",
       "      <td></td>\n",
       "      <td>D9</td>\n",
       "      <td>629 EAST 5TH STREET</td>\n",
       "      <td>...</td>\n",
       "      <td>24</td>\n",
       "      <td>0</td>\n",
       "      <td>24</td>\n",
       "      <td>4489</td>\n",
       "      <td>18523</td>\n",
       "      <td>1920</td>\n",
       "      <td>2</td>\n",
       "      <td>D9</td>\n",
       "      <td>16232000</td>\n",
       "      <td>2016-11-07 00:00:00</td>\n",
       "    </tr>\n",
       "  </tbody>\n",
       "</table>\n",
       "<p>10 rows × 22 columns</p>\n",
       "</div>"
      ],
      "text/plain": [
       "   Unnamed: 0    BOROUGH   NEIGHBORHOOD  \\\n",
       "0           4  Manhattan  ALPHABET CITY   \n",
       "1           5  Manhattan  ALPHABET CITY   \n",
       "2           6  Manhattan  ALPHABET CITY   \n",
       "3           7  Manhattan  ALPHABET CITY   \n",
       "4           8  Manhattan  ALPHABET CITY   \n",
       "5           9  Manhattan  ALPHABET CITY   \n",
       "6          10  Manhattan  ALPHABET CITY   \n",
       "7          11  Manhattan  ALPHABET CITY   \n",
       "8          12  Manhattan  ALPHABET CITY   \n",
       "9          13  Manhattan  ALPHABET CITY   \n",
       "\n",
       "                       BUILDING CLASS CATEGORY TAX CLASS AT PRESENT  BLOCK  \\\n",
       "0  07 RENTALS - WALKUP APARTMENTS                                2A    392   \n",
       "1  07 RENTALS - WALKUP APARTMENTS                                 2    399   \n",
       "2  07 RENTALS - WALKUP APARTMENTS                                 2    399   \n",
       "3  07 RENTALS - WALKUP APARTMENTS                                2B    402   \n",
       "4  07 RENTALS - WALKUP APARTMENTS                                2A    404   \n",
       "5  07 RENTALS - WALKUP APARTMENTS                                 2    405   \n",
       "6  07 RENTALS - WALKUP APARTMENTS                                2B    406   \n",
       "7  07 RENTALS - WALKUP APARTMENTS                                 2    407   \n",
       "8  08 RENTALS - ELEVATOR APARTMENTS                               2    379   \n",
       "9  08 RENTALS - ELEVATOR APARTMENTS                               2    387   \n",
       "\n",
       "   LOT EASE-MENT BUILDING CLASS AT PRESENT                 ADDRESS  ...  \\\n",
       "0    6                                  C2            153 AVENUE B  ...   \n",
       "1   26                                  C7   234 EAST 4TH   STREET  ...   \n",
       "2   39                                  C7   197 EAST 3RD   STREET  ...   \n",
       "3   21                                  C4     154 EAST 7TH STREET  ...   \n",
       "4   55                                  C2  301 EAST 10TH   STREET  ...   \n",
       "5   16                                  C4  516 EAST 12TH   STREET  ...   \n",
       "6   32                                  C4            210 AVENUE B  ...   \n",
       "7   18                                  C7  520 EAST 14TH   STREET  ...   \n",
       "8   34                                  D5            141 AVENUE D  ...   \n",
       "9  153                                  D9     629 EAST 5TH STREET  ...   \n",
       "\n",
       "  RESIDENTIAL UNITS  COMMERCIAL UNITS  TOTAL UNITS  LAND SQUARE FEET  \\\n",
       "0                 5                 0            5              1633   \n",
       "1                28                 3           31              4616   \n",
       "2                16                 1           17              2212   \n",
       "3                10                 0           10              2272   \n",
       "4                 6                 0            6              2369   \n",
       "5                20                 0           20              2581   \n",
       "6                 8                 0            8              1750   \n",
       "7                44                 2           46              5163   \n",
       "8                15                 0           15              1534   \n",
       "9                24                 0           24              4489   \n",
       "\n",
       "   GROSS SQUARE FEET YEAR BUILT TAX CLASS AT TIME OF SALE  \\\n",
       "0               6440       1900                         2   \n",
       "1              18690       1900                         2   \n",
       "2               7803       1900                         2   \n",
       "3               6794       1913                         2   \n",
       "4               4615       1900                         2   \n",
       "5               9730       1900                         2   \n",
       "6               4226       1920                         2   \n",
       "7              21007       1900                         2   \n",
       "8               9198       1920                         2   \n",
       "9              18523       1920                         2   \n",
       "\n",
       "   BUILDING CLASS AT TIME OF SALE  SALE PRICE            SALE DATE  \n",
       "0                              C2     6625000  2017-07-19 00:00:00  \n",
       "1                              C7         -    2016-12-14 00:00:00  \n",
       "2                              C7         -    2016-12-09 00:00:00  \n",
       "3                              C4     3936272  2016-09-23 00:00:00  \n",
       "4                              C2     8000000  2016-11-17 00:00:00  \n",
       "5                              C4         -    2017-07-20 00:00:00  \n",
       "6                              C4     3192840  2016-09-23 00:00:00  \n",
       "7                              C7         -    2017-07-20 00:00:00  \n",
       "8                              D5         -    2017-06-20 00:00:00  \n",
       "9                              D9    16232000  2016-11-07 00:00:00  \n",
       "\n",
       "[10 rows x 22 columns]"
      ]
     },
     "execution_count": 8,
     "metadata": {},
     "output_type": "execute_result"
    }
   ],
   "source": [
    "nyc.head(10)"
   ]
  },
  {
   "cell_type": "code",
   "execution_count": 9,
   "metadata": {
    "ExecuteTime": {
     "end_time": "2020-11-10T13:45:58.954001Z",
     "start_time": "2020-11-10T13:45:58.861952Z"
    }
   },
   "outputs": [
    {
     "data": {
      "text/html": [
       "<div>\n",
       "<style scoped>\n",
       "    .dataframe tbody tr th:only-of-type {\n",
       "        vertical-align: middle;\n",
       "    }\n",
       "\n",
       "    .dataframe tbody tr th {\n",
       "        vertical-align: top;\n",
       "    }\n",
       "\n",
       "    .dataframe thead th {\n",
       "        text-align: right;\n",
       "    }\n",
       "</style>\n",
       "<table border=\"1\" class=\"dataframe\">\n",
       "  <thead>\n",
       "    <tr style=\"text-align: right;\">\n",
       "      <th></th>\n",
       "      <th>0</th>\n",
       "      <th>1</th>\n",
       "      <th>2</th>\n",
       "      <th>3</th>\n",
       "      <th>4</th>\n",
       "    </tr>\n",
       "  </thead>\n",
       "  <tbody>\n",
       "    <tr>\n",
       "      <th>BOROUGH</th>\n",
       "      <td>Manhattan</td>\n",
       "      <td>Manhattan</td>\n",
       "      <td>Manhattan</td>\n",
       "      <td>Manhattan</td>\n",
       "      <td>Manhattan</td>\n",
       "    </tr>\n",
       "    <tr>\n",
       "      <th>NEIGHBORHOOD</th>\n",
       "      <td>ALPHABET CITY</td>\n",
       "      <td>ALPHABET CITY</td>\n",
       "      <td>ALPHABET CITY</td>\n",
       "      <td>ALPHABET CITY</td>\n",
       "      <td>ALPHABET CITY</td>\n",
       "    </tr>\n",
       "    <tr>\n",
       "      <th>BUILDING CLASS CATEGORY</th>\n",
       "      <td>07 RENTALS - WALKUP APARTMENTS</td>\n",
       "      <td>07 RENTALS - WALKUP APARTMENTS</td>\n",
       "      <td>07 RENTALS - WALKUP APARTMENTS</td>\n",
       "      <td>07 RENTALS - WALKUP APARTMENTS</td>\n",
       "      <td>07 RENTALS - WALKUP APARTMENTS</td>\n",
       "    </tr>\n",
       "    <tr>\n",
       "      <th>TAX CLASS AT PRESENT</th>\n",
       "      <td>2A</td>\n",
       "      <td>2</td>\n",
       "      <td>2</td>\n",
       "      <td>2B</td>\n",
       "      <td>2A</td>\n",
       "    </tr>\n",
       "    <tr>\n",
       "      <th>EASE-MENT</th>\n",
       "      <td></td>\n",
       "      <td></td>\n",
       "      <td></td>\n",
       "      <td></td>\n",
       "      <td></td>\n",
       "    </tr>\n",
       "    <tr>\n",
       "      <th>BUILDING CLASS AT PRESENT</th>\n",
       "      <td>C2</td>\n",
       "      <td>C7</td>\n",
       "      <td>C7</td>\n",
       "      <td>C4</td>\n",
       "      <td>C2</td>\n",
       "    </tr>\n",
       "    <tr>\n",
       "      <th>ADDRESS</th>\n",
       "      <td>153 AVENUE B</td>\n",
       "      <td>234 EAST 4TH   STREET</td>\n",
       "      <td>197 EAST 3RD   STREET</td>\n",
       "      <td>154 EAST 7TH STREET</td>\n",
       "      <td>301 EAST 10TH   STREET</td>\n",
       "    </tr>\n",
       "    <tr>\n",
       "      <th>APARTMENT NUMBER</th>\n",
       "      <td></td>\n",
       "      <td></td>\n",
       "      <td></td>\n",
       "      <td></td>\n",
       "      <td></td>\n",
       "    </tr>\n",
       "    <tr>\n",
       "      <th>LAND SQUARE FEET</th>\n",
       "      <td>1633</td>\n",
       "      <td>4616</td>\n",
       "      <td>2212</td>\n",
       "      <td>2272</td>\n",
       "      <td>2369</td>\n",
       "    </tr>\n",
       "    <tr>\n",
       "      <th>GROSS SQUARE FEET</th>\n",
       "      <td>6440</td>\n",
       "      <td>18690</td>\n",
       "      <td>7803</td>\n",
       "      <td>6794</td>\n",
       "      <td>4615</td>\n",
       "    </tr>\n",
       "    <tr>\n",
       "      <th>BUILDING CLASS AT TIME OF SALE</th>\n",
       "      <td>C2</td>\n",
       "      <td>C7</td>\n",
       "      <td>C7</td>\n",
       "      <td>C4</td>\n",
       "      <td>C2</td>\n",
       "    </tr>\n",
       "    <tr>\n",
       "      <th>SALE PRICE</th>\n",
       "      <td>6625000</td>\n",
       "      <td>-</td>\n",
       "      <td>-</td>\n",
       "      <td>3936272</td>\n",
       "      <td>8000000</td>\n",
       "    </tr>\n",
       "    <tr>\n",
       "      <th>SALE DATE</th>\n",
       "      <td>2017-07-19 00:00:00</td>\n",
       "      <td>2016-12-14 00:00:00</td>\n",
       "      <td>2016-12-09 00:00:00</td>\n",
       "      <td>2016-09-23 00:00:00</td>\n",
       "      <td>2016-11-17 00:00:00</td>\n",
       "    </tr>\n",
       "  </tbody>\n",
       "</table>\n",
       "</div>"
      ],
      "text/plain": [
       "                                                                          0  \\\n",
       "BOROUGH                                                           Manhattan   \n",
       "NEIGHBORHOOD                                                  ALPHABET CITY   \n",
       "BUILDING CLASS CATEGORY         07 RENTALS - WALKUP APARTMENTS                \n",
       "TAX CLASS AT PRESENT                                                     2A   \n",
       "EASE-MENT                                                                     \n",
       "BUILDING CLASS AT PRESENT                                                C2   \n",
       "ADDRESS                                                        153 AVENUE B   \n",
       "APARTMENT NUMBER                                                              \n",
       "LAND SQUARE FEET                                                       1633   \n",
       "GROSS SQUARE FEET                                                      6440   \n",
       "BUILDING CLASS AT TIME OF SALE                                           C2   \n",
       "SALE PRICE                                                          6625000   \n",
       "SALE DATE                                               2017-07-19 00:00:00   \n",
       "\n",
       "                                                                          1  \\\n",
       "BOROUGH                                                           Manhattan   \n",
       "NEIGHBORHOOD                                                  ALPHABET CITY   \n",
       "BUILDING CLASS CATEGORY         07 RENTALS - WALKUP APARTMENTS                \n",
       "TAX CLASS AT PRESENT                                                      2   \n",
       "EASE-MENT                                                                     \n",
       "BUILDING CLASS AT PRESENT                                                C7   \n",
       "ADDRESS                                               234 EAST 4TH   STREET   \n",
       "APARTMENT NUMBER                                                              \n",
       "LAND SQUARE FEET                                                       4616   \n",
       "GROSS SQUARE FEET                                                     18690   \n",
       "BUILDING CLASS AT TIME OF SALE                                           C7   \n",
       "SALE PRICE                                                              -     \n",
       "SALE DATE                                               2016-12-14 00:00:00   \n",
       "\n",
       "                                                                          2  \\\n",
       "BOROUGH                                                           Manhattan   \n",
       "NEIGHBORHOOD                                                  ALPHABET CITY   \n",
       "BUILDING CLASS CATEGORY         07 RENTALS - WALKUP APARTMENTS                \n",
       "TAX CLASS AT PRESENT                                                      2   \n",
       "EASE-MENT                                                                     \n",
       "BUILDING CLASS AT PRESENT                                                C7   \n",
       "ADDRESS                                               197 EAST 3RD   STREET   \n",
       "APARTMENT NUMBER                                                              \n",
       "LAND SQUARE FEET                                                       2212   \n",
       "GROSS SQUARE FEET                                                      7803   \n",
       "BUILDING CLASS AT TIME OF SALE                                           C7   \n",
       "SALE PRICE                                                              -     \n",
       "SALE DATE                                               2016-12-09 00:00:00   \n",
       "\n",
       "                                                                          3  \\\n",
       "BOROUGH                                                           Manhattan   \n",
       "NEIGHBORHOOD                                                  ALPHABET CITY   \n",
       "BUILDING CLASS CATEGORY         07 RENTALS - WALKUP APARTMENTS                \n",
       "TAX CLASS AT PRESENT                                                     2B   \n",
       "EASE-MENT                                                                     \n",
       "BUILDING CLASS AT PRESENT                                                C4   \n",
       "ADDRESS                                                 154 EAST 7TH STREET   \n",
       "APARTMENT NUMBER                                                              \n",
       "LAND SQUARE FEET                                                       2272   \n",
       "GROSS SQUARE FEET                                                      6794   \n",
       "BUILDING CLASS AT TIME OF SALE                                           C4   \n",
       "SALE PRICE                                                          3936272   \n",
       "SALE DATE                                               2016-09-23 00:00:00   \n",
       "\n",
       "                                                                          4  \n",
       "BOROUGH                                                           Manhattan  \n",
       "NEIGHBORHOOD                                                  ALPHABET CITY  \n",
       "BUILDING CLASS CATEGORY         07 RENTALS - WALKUP APARTMENTS               \n",
       "TAX CLASS AT PRESENT                                                     2A  \n",
       "EASE-MENT                                                                    \n",
       "BUILDING CLASS AT PRESENT                                                C2  \n",
       "ADDRESS                                              301 EAST 10TH   STREET  \n",
       "APARTMENT NUMBER                                                             \n",
       "LAND SQUARE FEET                                                       2369  \n",
       "GROSS SQUARE FEET                                                      4615  \n",
       "BUILDING CLASS AT TIME OF SALE                                           C2  \n",
       "SALE PRICE                                                          8000000  \n",
       "SALE DATE                                               2016-11-17 00:00:00  "
      ]
     },
     "execution_count": 9,
     "metadata": {},
     "output_type": "execute_result"
    }
   ],
   "source": [
    "category = nyc.select_dtypes(include=['object'])\n",
    "category.head().transpose()"
   ]
  },
  {
   "cell_type": "code",
   "execution_count": 10,
   "metadata": {
    "ExecuteTime": {
     "end_time": "2020-11-10T13:45:59.286978Z",
     "start_time": "2020-11-10T13:45:58.976841Z"
    }
   },
   "outputs": [
    {
     "data": {
      "text/html": [
       "<div>\n",
       "<style scoped>\n",
       "    .dataframe tbody tr th:only-of-type {\n",
       "        vertical-align: middle;\n",
       "    }\n",
       "\n",
       "    .dataframe tbody tr th {\n",
       "        vertical-align: top;\n",
       "    }\n",
       "\n",
       "    .dataframe thead th {\n",
       "        text-align: right;\n",
       "    }\n",
       "</style>\n",
       "<table border=\"1\" class=\"dataframe\">\n",
       "  <thead>\n",
       "    <tr style=\"text-align: right;\">\n",
       "      <th></th>\n",
       "      <th>count</th>\n",
       "      <th>unique</th>\n",
       "      <th>top</th>\n",
       "      <th>freq</th>\n",
       "    </tr>\n",
       "  </thead>\n",
       "  <tbody>\n",
       "    <tr>\n",
       "      <th>BOROUGH</th>\n",
       "      <td>84548</td>\n",
       "      <td>5</td>\n",
       "      <td>Queens</td>\n",
       "      <td>26736</td>\n",
       "    </tr>\n",
       "    <tr>\n",
       "      <th>NEIGHBORHOOD</th>\n",
       "      <td>84548</td>\n",
       "      <td>254</td>\n",
       "      <td>FLUSHING-NORTH</td>\n",
       "      <td>3068</td>\n",
       "    </tr>\n",
       "    <tr>\n",
       "      <th>BUILDING CLASS CATEGORY</th>\n",
       "      <td>84548</td>\n",
       "      <td>47</td>\n",
       "      <td>01 ONE FAMILY DWELLINGS</td>\n",
       "      <td>18235</td>\n",
       "    </tr>\n",
       "    <tr>\n",
       "      <th>TAX CLASS AT PRESENT</th>\n",
       "      <td>84548</td>\n",
       "      <td>11</td>\n",
       "      <td>1</td>\n",
       "      <td>38633</td>\n",
       "    </tr>\n",
       "    <tr>\n",
       "      <th>EASE-MENT</th>\n",
       "      <td>84548</td>\n",
       "      <td>1</td>\n",
       "      <td></td>\n",
       "      <td>84548</td>\n",
       "    </tr>\n",
       "    <tr>\n",
       "      <th>BUILDING CLASS AT PRESENT</th>\n",
       "      <td>84548</td>\n",
       "      <td>167</td>\n",
       "      <td>D4</td>\n",
       "      <td>12663</td>\n",
       "    </tr>\n",
       "    <tr>\n",
       "      <th>ADDRESS</th>\n",
       "      <td>84548</td>\n",
       "      <td>67563</td>\n",
       "      <td>131-05 40TH   ROAD</td>\n",
       "      <td>210</td>\n",
       "    </tr>\n",
       "    <tr>\n",
       "      <th>APARTMENT NUMBER</th>\n",
       "      <td>84548</td>\n",
       "      <td>3989</td>\n",
       "      <td></td>\n",
       "      <td>65496</td>\n",
       "    </tr>\n",
       "    <tr>\n",
       "      <th>LAND SQUARE FEET</th>\n",
       "      <td>84548</td>\n",
       "      <td>6062</td>\n",
       "      <td>-</td>\n",
       "      <td>26252</td>\n",
       "    </tr>\n",
       "    <tr>\n",
       "      <th>GROSS SQUARE FEET</th>\n",
       "      <td>84548</td>\n",
       "      <td>5691</td>\n",
       "      <td>-</td>\n",
       "      <td>27612</td>\n",
       "    </tr>\n",
       "    <tr>\n",
       "      <th>BUILDING CLASS AT TIME OF SALE</th>\n",
       "      <td>84548</td>\n",
       "      <td>166</td>\n",
       "      <td>R4</td>\n",
       "      <td>12989</td>\n",
       "    </tr>\n",
       "    <tr>\n",
       "      <th>SALE PRICE</th>\n",
       "      <td>84548</td>\n",
       "      <td>10008</td>\n",
       "      <td>-</td>\n",
       "      <td>14561</td>\n",
       "    </tr>\n",
       "    <tr>\n",
       "      <th>SALE DATE</th>\n",
       "      <td>84548</td>\n",
       "      <td>364</td>\n",
       "      <td>2017-06-29 00:00:00</td>\n",
       "      <td>544</td>\n",
       "    </tr>\n",
       "  </tbody>\n",
       "</table>\n",
       "</div>"
      ],
      "text/plain": [
       "                                count unique  \\\n",
       "BOROUGH                         84548      5   \n",
       "NEIGHBORHOOD                    84548    254   \n",
       "BUILDING CLASS CATEGORY         84548     47   \n",
       "TAX CLASS AT PRESENT            84548     11   \n",
       "EASE-MENT                       84548      1   \n",
       "BUILDING CLASS AT PRESENT       84548    167   \n",
       "ADDRESS                         84548  67563   \n",
       "APARTMENT NUMBER                84548   3989   \n",
       "LAND SQUARE FEET                84548   6062   \n",
       "GROSS SQUARE FEET               84548   5691   \n",
       "BUILDING CLASS AT TIME OF SALE  84548    166   \n",
       "SALE PRICE                      84548  10008   \n",
       "SALE DATE                       84548    364   \n",
       "\n",
       "                                                                        top  \\\n",
       "BOROUGH                                                              Queens   \n",
       "NEIGHBORHOOD                                                 FLUSHING-NORTH   \n",
       "BUILDING CLASS CATEGORY         01 ONE FAMILY DWELLINGS                       \n",
       "TAX CLASS AT PRESENT                                                      1   \n",
       "EASE-MENT                                                                     \n",
       "BUILDING CLASS AT PRESENT                                                D4   \n",
       "ADDRESS                                                  131-05 40TH   ROAD   \n",
       "APARTMENT NUMBER                                                              \n",
       "LAND SQUARE FEET                                                        -     \n",
       "GROSS SQUARE FEET                                                       -     \n",
       "BUILDING CLASS AT TIME OF SALE                                           R4   \n",
       "SALE PRICE                                                              -     \n",
       "SALE DATE                                               2017-06-29 00:00:00   \n",
       "\n",
       "                                 freq  \n",
       "BOROUGH                         26736  \n",
       "NEIGHBORHOOD                     3068  \n",
       "BUILDING CLASS CATEGORY         18235  \n",
       "TAX CLASS AT PRESENT            38633  \n",
       "EASE-MENT                       84548  \n",
       "BUILDING CLASS AT PRESENT       12663  \n",
       "ADDRESS                           210  \n",
       "APARTMENT NUMBER                65496  \n",
       "LAND SQUARE FEET                26252  \n",
       "GROSS SQUARE FEET               27612  \n",
       "BUILDING CLASS AT TIME OF SALE  12989  \n",
       "SALE PRICE                      14561  \n",
       "SALE DATE                         544  "
      ]
     },
     "execution_count": 10,
     "metadata": {},
     "output_type": "execute_result"
    }
   ],
   "source": [
    "category.describe().transpose()"
   ]
  },
  {
   "cell_type": "code",
   "execution_count": 11,
   "metadata": {
    "ExecuteTime": {
     "end_time": "2020-11-10T13:45:59.316471Z",
     "start_time": "2020-11-10T13:45:59.290329Z"
    }
   },
   "outputs": [],
   "source": [
    "del nyc['EASE-MENT']\n",
    "del nyc['Unnamed: 0']"
   ]
  },
  {
   "cell_type": "code",
   "execution_count": 12,
   "metadata": {
    "ExecuteTime": {
     "end_time": "2020-11-10T13:45:59.646606Z",
     "start_time": "2020-11-10T13:45:59.320628Z"
    }
   },
   "outputs": [],
   "source": [
    "nyc['BOROUGH'] = nyc['BOROUGH'].astype('category')\n",
    "nyc['SALE PRICE'] = pd.to_numeric(nyc['SALE PRICE'], errors='coerce')\n",
    "nyc['LAND SQUARE FEET'] = pd.to_numeric(nyc['LAND SQUARE FEET'], errors='coerce')\n",
    "nyc['GROSS SQUARE FEET']= pd.to_numeric(nyc['GROSS SQUARE FEET'], errors='coerce')\n",
    "nyc['SALE DATE'] = pd.to_datetime(nyc['SALE DATE'], errors='coerce')\n",
    "nyc['TAX CLASS AT TIME OF SALE'] = nyc['TAX CLASS AT TIME OF SALE'].astype('category')\n",
    "nyc['TAX CLASS AT PRESENT'] = nyc['TAX CLASS AT PRESENT'].astype('category')\n",
    "nyc['NEIGHBORHOOD'] = nyc['NEIGHBORHOOD'].astype('category')\n",
    "nyc['BUILDING CLASS CATEGORY'] = nyc['BUILDING CLASS CATEGORY'].astype('category')\n",
    "nyc['BUILDING CLASS AT PRESENT'] = nyc['BUILDING CLASS AT PRESENT'].astype('category')\n",
    "nyc['BUILDING CLASS AT TIME OF SALE'] = nyc['BUILDING CLASS AT TIME OF SALE'].astype('category')"
   ]
  },
  {
   "cell_type": "code",
   "execution_count": 13,
   "metadata": {
    "ExecuteTime": {
     "end_time": "2020-11-10T13:45:59.885873Z",
     "start_time": "2020-11-10T13:45:59.650328Z"
    }
   },
   "outputs": [
    {
     "data": {
      "text/plain": [
       "0"
      ]
     },
     "execution_count": 13,
     "metadata": {},
     "output_type": "execute_result"
    }
   ],
   "source": [
    "nyc = nyc.drop_duplicates(nyc.columns, keep='last')\n",
    "sum(nyc.duplicated(nyc.columns))"
   ]
  },
  {
   "cell_type": "code",
   "execution_count": 14,
   "metadata": {
    "ExecuteTime": {
     "end_time": "2020-11-10T13:45:59.959749Z",
     "start_time": "2020-11-10T13:45:59.895296Z"
    }
   },
   "outputs": [
    {
     "name": "stdout",
     "output_type": "stream",
     "text": [
      "<class 'pandas.core.frame.DataFrame'>\n",
      "Int64Index: 83783 entries, 0 to 84547\n",
      "Data columns (total 20 columns):\n",
      " #   Column                          Non-Null Count  Dtype         \n",
      "---  ------                          --------------  -----         \n",
      " 0   BOROUGH                         83783 non-null  category      \n",
      " 1   NEIGHBORHOOD                    83783 non-null  category      \n",
      " 2   BUILDING CLASS CATEGORY         83783 non-null  category      \n",
      " 3   TAX CLASS AT PRESENT            83783 non-null  category      \n",
      " 4   BLOCK                           83783 non-null  int64         \n",
      " 5   LOT                             83783 non-null  int64         \n",
      " 6   BUILDING CLASS AT PRESENT       83783 non-null  category      \n",
      " 7   ADDRESS                         83783 non-null  object        \n",
      " 8   APARTMENT NUMBER                83783 non-null  object        \n",
      " 9   ZIP CODE                        83783 non-null  int64         \n",
      " 10  RESIDENTIAL UNITS               83783 non-null  int64         \n",
      " 11  COMMERCIAL UNITS                83783 non-null  int64         \n",
      " 12  TOTAL UNITS                     83783 non-null  int64         \n",
      " 13  LAND SQUARE FEET                57729 non-null  float64       \n",
      " 14  GROSS SQUARE FEET               56398 non-null  float64       \n",
      " 15  YEAR BUILT                      83783 non-null  int64         \n",
      " 16  TAX CLASS AT TIME OF SALE       83783 non-null  category      \n",
      " 17  BUILDING CLASS AT TIME OF SALE  83783 non-null  category      \n",
      " 18  SALE PRICE                      69607 non-null  float64       \n",
      " 19  SALE DATE                       83783 non-null  datetime64[ns]\n",
      "dtypes: category(7), datetime64[ns](1), float64(3), int64(7), object(2)\n",
      "memory usage: 9.8+ MB\n"
     ]
    }
   ],
   "source": [
    "nyc.info()"
   ]
  },
  {
   "cell_type": "code",
   "execution_count": 15,
   "metadata": {
    "ExecuteTime": {
     "end_time": "2020-11-10T13:46:00.120401Z",
     "start_time": "2020-11-10T13:45:59.968280Z"
    }
   },
   "outputs": [
    {
     "data": {
      "text/html": [
       "<div>\n",
       "<style scoped>\n",
       "    .dataframe tbody tr th:only-of-type {\n",
       "        vertical-align: middle;\n",
       "    }\n",
       "\n",
       "    .dataframe tbody tr th {\n",
       "        vertical-align: top;\n",
       "    }\n",
       "\n",
       "    .dataframe thead th {\n",
       "        text-align: right;\n",
       "    }\n",
       "</style>\n",
       "<table border=\"1\" class=\"dataframe\">\n",
       "  <thead>\n",
       "    <tr style=\"text-align: right;\">\n",
       "      <th></th>\n",
       "      <th>BLOCK</th>\n",
       "      <th>LOT</th>\n",
       "      <th>ZIP CODE</th>\n",
       "      <th>RESIDENTIAL UNITS</th>\n",
       "      <th>COMMERCIAL UNITS</th>\n",
       "      <th>TOTAL UNITS</th>\n",
       "      <th>LAND SQUARE FEET</th>\n",
       "      <th>GROSS SQUARE FEET</th>\n",
       "      <th>YEAR BUILT</th>\n",
       "      <th>SALE PRICE</th>\n",
       "    </tr>\n",
       "  </thead>\n",
       "  <tbody>\n",
       "    <tr>\n",
       "      <th>count</th>\n",
       "      <td>83783.000000</td>\n",
       "      <td>83783.000000</td>\n",
       "      <td>83783.000000</td>\n",
       "      <td>83783.000000</td>\n",
       "      <td>83783.000000</td>\n",
       "      <td>83783.000000</td>\n",
       "      <td>5.772900e+04</td>\n",
       "      <td>5.639800e+04</td>\n",
       "      <td>83783.000000</td>\n",
       "      <td>6.960700e+04</td>\n",
       "    </tr>\n",
       "    <tr>\n",
       "      <th>mean</th>\n",
       "      <td>4242.903155</td>\n",
       "      <td>376.137415</td>\n",
       "      <td>10733.236575</td>\n",
       "      <td>1.999976</td>\n",
       "      <td>0.183677</td>\n",
       "      <td>2.213504</td>\n",
       "      <td>3.854481e+03</td>\n",
       "      <td>3.894416e+03</td>\n",
       "      <td>1789.814318</td>\n",
       "      <td>1.280703e+06</td>\n",
       "    </tr>\n",
       "    <tr>\n",
       "      <th>std</th>\n",
       "      <td>3568.789482</td>\n",
       "      <td>658.021286</td>\n",
       "      <td>1289.764300</td>\n",
       "      <td>16.569118</td>\n",
       "      <td>8.576582</td>\n",
       "      <td>18.777727</td>\n",
       "      <td>4.154737e+04</td>\n",
       "      <td>3.483726e+04</td>\n",
       "      <td>536.565051</td>\n",
       "      <td>1.143036e+07</td>\n",
       "    </tr>\n",
       "    <tr>\n",
       "      <th>min</th>\n",
       "      <td>1.000000</td>\n",
       "      <td>1.000000</td>\n",
       "      <td>0.000000</td>\n",
       "      <td>0.000000</td>\n",
       "      <td>0.000000</td>\n",
       "      <td>0.000000</td>\n",
       "      <td>0.000000e+00</td>\n",
       "      <td>0.000000e+00</td>\n",
       "      <td>0.000000</td>\n",
       "      <td>0.000000e+00</td>\n",
       "    </tr>\n",
       "    <tr>\n",
       "      <th>25%</th>\n",
       "      <td>1326.000000</td>\n",
       "      <td>22.000000</td>\n",
       "      <td>10305.000000</td>\n",
       "      <td>0.000000</td>\n",
       "      <td>0.000000</td>\n",
       "      <td>1.000000</td>\n",
       "      <td>1.643000e+03</td>\n",
       "      <td>1.040000e+03</td>\n",
       "      <td>1920.000000</td>\n",
       "      <td>2.300000e+05</td>\n",
       "    </tr>\n",
       "    <tr>\n",
       "      <th>50%</th>\n",
       "      <td>3319.000000</td>\n",
       "      <td>50.000000</td>\n",
       "      <td>11209.000000</td>\n",
       "      <td>1.000000</td>\n",
       "      <td>0.000000</td>\n",
       "      <td>1.000000</td>\n",
       "      <td>2.314000e+03</td>\n",
       "      <td>1.680000e+03</td>\n",
       "      <td>1940.000000</td>\n",
       "      <td>5.330000e+05</td>\n",
       "    </tr>\n",
       "    <tr>\n",
       "      <th>75%</th>\n",
       "      <td>6295.000000</td>\n",
       "      <td>1001.000000</td>\n",
       "      <td>11357.000000</td>\n",
       "      <td>2.000000</td>\n",
       "      <td>0.000000</td>\n",
       "      <td>2.000000</td>\n",
       "      <td>3.500000e+03</td>\n",
       "      <td>2.552000e+03</td>\n",
       "      <td>1965.000000</td>\n",
       "      <td>9.500000e+05</td>\n",
       "    </tr>\n",
       "    <tr>\n",
       "      <th>max</th>\n",
       "      <td>16322.000000</td>\n",
       "      <td>9106.000000</td>\n",
       "      <td>11694.000000</td>\n",
       "      <td>1844.000000</td>\n",
       "      <td>2261.000000</td>\n",
       "      <td>2261.000000</td>\n",
       "      <td>4.252327e+06</td>\n",
       "      <td>3.750565e+06</td>\n",
       "      <td>2017.000000</td>\n",
       "      <td>2.210000e+09</td>\n",
       "    </tr>\n",
       "  </tbody>\n",
       "</table>\n",
       "</div>"
      ],
      "text/plain": [
       "              BLOCK           LOT      ZIP CODE  RESIDENTIAL UNITS  \\\n",
       "count  83783.000000  83783.000000  83783.000000       83783.000000   \n",
       "mean    4242.903155    376.137415  10733.236575           1.999976   \n",
       "std     3568.789482    658.021286   1289.764300          16.569118   \n",
       "min        1.000000      1.000000      0.000000           0.000000   \n",
       "25%     1326.000000     22.000000  10305.000000           0.000000   \n",
       "50%     3319.000000     50.000000  11209.000000           1.000000   \n",
       "75%     6295.000000   1001.000000  11357.000000           2.000000   \n",
       "max    16322.000000   9106.000000  11694.000000        1844.000000   \n",
       "\n",
       "       COMMERCIAL UNITS   TOTAL UNITS  LAND SQUARE FEET  GROSS SQUARE FEET  \\\n",
       "count      83783.000000  83783.000000      5.772900e+04       5.639800e+04   \n",
       "mean           0.183677      2.213504      3.854481e+03       3.894416e+03   \n",
       "std            8.576582     18.777727      4.154737e+04       3.483726e+04   \n",
       "min            0.000000      0.000000      0.000000e+00       0.000000e+00   \n",
       "25%            0.000000      1.000000      1.643000e+03       1.040000e+03   \n",
       "50%            0.000000      1.000000      2.314000e+03       1.680000e+03   \n",
       "75%            0.000000      2.000000      3.500000e+03       2.552000e+03   \n",
       "max         2261.000000   2261.000000      4.252327e+06       3.750565e+06   \n",
       "\n",
       "         YEAR BUILT    SALE PRICE  \n",
       "count  83783.000000  6.960700e+04  \n",
       "mean    1789.814318  1.280703e+06  \n",
       "std      536.565051  1.143036e+07  \n",
       "min        0.000000  0.000000e+00  \n",
       "25%     1920.000000  2.300000e+05  \n",
       "50%     1940.000000  5.330000e+05  \n",
       "75%     1965.000000  9.500000e+05  \n",
       "max     2017.000000  2.210000e+09  "
      ]
     },
     "execution_count": 15,
     "metadata": {},
     "output_type": "execute_result"
    }
   ],
   "source": [
    "nyc.describe()"
   ]
  },
  {
   "cell_type": "code",
   "execution_count": 16,
   "metadata": {
    "ExecuteTime": {
     "end_time": "2020-11-10T13:46:00.153200Z",
     "start_time": "2020-11-10T13:46:00.126990Z"
    }
   },
   "outputs": [
    {
     "data": {
      "text/plain": [
       "69607"
      ]
     },
     "execution_count": 16,
     "metadata": {},
     "output_type": "execute_result"
    }
   ],
   "source": [
    "sales = nyc[nyc['SALE PRICE'].notnull()]\n",
    "len(sales)"
   ]
  },
  {
   "cell_type": "code",
   "execution_count": 17,
   "metadata": {
    "ExecuteTime": {
     "end_time": "2020-11-10T13:46:00.315306Z",
     "start_time": "2020-11-10T13:46:00.159037Z"
    }
   },
   "outputs": [
    {
     "data": {
      "text/html": [
       "<div>\n",
       "<style scoped>\n",
       "    .dataframe tbody tr th:only-of-type {\n",
       "        vertical-align: middle;\n",
       "    }\n",
       "\n",
       "    .dataframe tbody tr th {\n",
       "        vertical-align: top;\n",
       "    }\n",
       "\n",
       "    .dataframe thead th {\n",
       "        text-align: right;\n",
       "    }\n",
       "</style>\n",
       "<table border=\"1\" class=\"dataframe\">\n",
       "  <thead>\n",
       "    <tr style=\"text-align: right;\">\n",
       "      <th></th>\n",
       "      <th>BLOCK</th>\n",
       "      <th>LOT</th>\n",
       "      <th>ZIP CODE</th>\n",
       "      <th>RESIDENTIAL UNITS</th>\n",
       "      <th>COMMERCIAL UNITS</th>\n",
       "      <th>TOTAL UNITS</th>\n",
       "      <th>LAND SQUARE FEET</th>\n",
       "      <th>GROSS SQUARE FEET</th>\n",
       "      <th>YEAR BUILT</th>\n",
       "      <th>SALE PRICE</th>\n",
       "    </tr>\n",
       "  </thead>\n",
       "  <tbody>\n",
       "    <tr>\n",
       "      <th>count</th>\n",
       "      <td>69607.000000</td>\n",
       "      <td>69607.000000</td>\n",
       "      <td>69607.000000</td>\n",
       "      <td>69607.000000</td>\n",
       "      <td>69607.000000</td>\n",
       "      <td>69607.000000</td>\n",
       "      <td>4.844900e+04</td>\n",
       "      <td>4.790000e+04</td>\n",
       "      <td>69607.000000</td>\n",
       "      <td>6.960700e+04</td>\n",
       "    </tr>\n",
       "    <tr>\n",
       "      <th>mean</th>\n",
       "      <td>4199.890140</td>\n",
       "      <td>374.580473</td>\n",
       "      <td>10741.159323</td>\n",
       "      <td>1.875070</td>\n",
       "      <td>0.164121</td>\n",
       "      <td>2.059319</td>\n",
       "      <td>3.544802e+03</td>\n",
       "      <td>3.528707e+03</td>\n",
       "      <td>1799.852184</td>\n",
       "      <td>1.280703e+06</td>\n",
       "    </tr>\n",
       "    <tr>\n",
       "      <th>std</th>\n",
       "      <td>3431.897518</td>\n",
       "      <td>656.232024</td>\n",
       "      <td>1264.804508</td>\n",
       "      <td>14.291398</td>\n",
       "      <td>8.997236</td>\n",
       "      <td>16.992716</td>\n",
       "      <td>3.973875e+04</td>\n",
       "      <td>2.920564e+04</td>\n",
       "      <td>520.099311</td>\n",
       "      <td>1.143036e+07</td>\n",
       "    </tr>\n",
       "    <tr>\n",
       "      <th>min</th>\n",
       "      <td>1.000000</td>\n",
       "      <td>1.000000</td>\n",
       "      <td>0.000000</td>\n",
       "      <td>0.000000</td>\n",
       "      <td>0.000000</td>\n",
       "      <td>0.000000</td>\n",
       "      <td>0.000000e+00</td>\n",
       "      <td>0.000000e+00</td>\n",
       "      <td>0.000000</td>\n",
       "      <td>0.000000e+00</td>\n",
       "    </tr>\n",
       "    <tr>\n",
       "      <th>25%</th>\n",
       "      <td>1350.000000</td>\n",
       "      <td>22.000000</td>\n",
       "      <td>10306.000000</td>\n",
       "      <td>0.000000</td>\n",
       "      <td>0.000000</td>\n",
       "      <td>0.000000</td>\n",
       "      <td>1.425000e+03</td>\n",
       "      <td>8.160000e+02</td>\n",
       "      <td>1920.000000</td>\n",
       "      <td>2.300000e+05</td>\n",
       "    </tr>\n",
       "    <tr>\n",
       "      <th>50%</th>\n",
       "      <td>3378.000000</td>\n",
       "      <td>50.000000</td>\n",
       "      <td>11209.000000</td>\n",
       "      <td>1.000000</td>\n",
       "      <td>0.000000</td>\n",
       "      <td>1.000000</td>\n",
       "      <td>2.150000e+03</td>\n",
       "      <td>1.620000e+03</td>\n",
       "      <td>1938.000000</td>\n",
       "      <td>5.330000e+05</td>\n",
       "    </tr>\n",
       "    <tr>\n",
       "      <th>75%</th>\n",
       "      <td>6192.000000</td>\n",
       "      <td>820.000000</td>\n",
       "      <td>11249.000000</td>\n",
       "      <td>2.000000</td>\n",
       "      <td>0.000000</td>\n",
       "      <td>2.000000</td>\n",
       "      <td>3.100000e+03</td>\n",
       "      <td>2.508000e+03</td>\n",
       "      <td>1965.000000</td>\n",
       "      <td>9.500000e+05</td>\n",
       "    </tr>\n",
       "    <tr>\n",
       "      <th>max</th>\n",
       "      <td>16319.000000</td>\n",
       "      <td>9106.000000</td>\n",
       "      <td>11694.000000</td>\n",
       "      <td>1844.000000</td>\n",
       "      <td>2261.000000</td>\n",
       "      <td>2261.000000</td>\n",
       "      <td>4.252327e+06</td>\n",
       "      <td>3.750565e+06</td>\n",
       "      <td>2017.000000</td>\n",
       "      <td>2.210000e+09</td>\n",
       "    </tr>\n",
       "  </tbody>\n",
       "</table>\n",
       "</div>"
      ],
      "text/plain": [
       "              BLOCK           LOT      ZIP CODE  RESIDENTIAL UNITS  \\\n",
       "count  69607.000000  69607.000000  69607.000000       69607.000000   \n",
       "mean    4199.890140    374.580473  10741.159323           1.875070   \n",
       "std     3431.897518    656.232024   1264.804508          14.291398   \n",
       "min        1.000000      1.000000      0.000000           0.000000   \n",
       "25%     1350.000000     22.000000  10306.000000           0.000000   \n",
       "50%     3378.000000     50.000000  11209.000000           1.000000   \n",
       "75%     6192.000000    820.000000  11249.000000           2.000000   \n",
       "max    16319.000000   9106.000000  11694.000000        1844.000000   \n",
       "\n",
       "       COMMERCIAL UNITS   TOTAL UNITS  LAND SQUARE FEET  GROSS SQUARE FEET  \\\n",
       "count      69607.000000  69607.000000      4.844900e+04       4.790000e+04   \n",
       "mean           0.164121      2.059319      3.544802e+03       3.528707e+03   \n",
       "std            8.997236     16.992716      3.973875e+04       2.920564e+04   \n",
       "min            0.000000      0.000000      0.000000e+00       0.000000e+00   \n",
       "25%            0.000000      0.000000      1.425000e+03       8.160000e+02   \n",
       "50%            0.000000      1.000000      2.150000e+03       1.620000e+03   \n",
       "75%            0.000000      2.000000      3.100000e+03       2.508000e+03   \n",
       "max         2261.000000   2261.000000      4.252327e+06       3.750565e+06   \n",
       "\n",
       "         YEAR BUILT    SALE PRICE  \n",
       "count  69607.000000  6.960700e+04  \n",
       "mean    1799.852184  1.280703e+06  \n",
       "std      520.099311  1.143036e+07  \n",
       "min        0.000000  0.000000e+00  \n",
       "25%     1920.000000  2.300000e+05  \n",
       "50%     1938.000000  5.330000e+05  \n",
       "75%     1965.000000  9.500000e+05  \n",
       "max     2017.000000  2.210000e+09  "
      ]
     },
     "execution_count": 17,
     "metadata": {},
     "output_type": "execute_result"
    }
   ],
   "source": [
    "sales.describe()"
   ]
  },
  {
   "cell_type": "code",
   "execution_count": 18,
   "metadata": {
    "ExecuteTime": {
     "end_time": "2020-11-10T13:46:00.339805Z",
     "start_time": "2020-11-10T13:46:00.323064Z"
    }
   },
   "outputs": [
    {
     "name": "stdout",
     "output_type": "stream",
     "text": [
      "(5, 20)\n",
      "(1336, 20)\n"
     ]
    }
   ],
   "source": [
    "print(nyc[(nyc['LAND SQUARE FEET'].isnull()) & (nyc['GROSS SQUARE FEET'].notnull())].shape)\n",
    "print(nyc[(nyc['LAND SQUARE FEET'].notnull()) & (nyc['GROSS SQUARE FEET'].isnull())].shape)"
   ]
  },
  {
   "cell_type": "code",
   "execution_count": 19,
   "metadata": {
    "ExecuteTime": {
     "end_time": "2020-11-10T13:46:00.368284Z",
     "start_time": "2020-11-10T13:46:00.347451Z"
    }
   },
   "outputs": [],
   "source": [
    "nyc ['LAND SQUARE FEET'] = nyc ['LAND SQUARE FEET'].mask((nyc['LAND SQUARE FEET'].isnull()) & (nyc['GROSS SQUARE FEET'].notnull()), nyc['GROSS SQUARE FEET'])\n",
    "nyc ['GROSS SQUARE FEET'] = nyc ['GROSS SQUARE FEET'].mask((nyc['LAND SQUARE FEET'].notnull()) & (nyc['GROSS SQUARE FEET'].isnull()), nyc['LAND SQUARE FEET'])                                                         "
   ]
  },
  {
   "cell_type": "code",
   "execution_count": 20,
   "metadata": {
    "ExecuteTime": {
     "end_time": "2020-11-10T13:46:00.596861Z",
     "start_time": "2020-11-10T13:46:00.374722Z"
    }
   },
   "outputs": [
    {
     "name": "stdout",
     "output_type": "stream",
     "text": [
      "0\n"
     ]
    }
   ],
   "source": [
    "print(sum(nyc.duplicated()))"
   ]
  },
  {
   "cell_type": "code",
   "execution_count": 21,
   "metadata": {
    "ExecuteTime": {
     "end_time": "2020-11-10T13:46:00.728132Z",
     "start_time": "2020-11-10T13:46:00.604068Z"
    }
   },
   "outputs": [
    {
     "data": {
      "text/html": [
       "<div>\n",
       "<style scoped>\n",
       "    .dataframe tbody tr th:only-of-type {\n",
       "        vertical-align: middle;\n",
       "    }\n",
       "\n",
       "    .dataframe tbody tr th {\n",
       "        vertical-align: top;\n",
       "    }\n",
       "\n",
       "    .dataframe thead th {\n",
       "        text-align: right;\n",
       "    }\n",
       "</style>\n",
       "<table border=\"1\" class=\"dataframe\">\n",
       "  <thead>\n",
       "    <tr style=\"text-align: right;\">\n",
       "      <th></th>\n",
       "      <th>BOROUGH</th>\n",
       "      <th>NEIGHBORHOOD</th>\n",
       "      <th>BUILDING CLASS CATEGORY</th>\n",
       "      <th>TAX CLASS AT PRESENT</th>\n",
       "      <th>BLOCK</th>\n",
       "      <th>LOT</th>\n",
       "      <th>BUILDING CLASS AT PRESENT</th>\n",
       "      <th>ADDRESS</th>\n",
       "      <th>APARTMENT NUMBER</th>\n",
       "      <th>ZIP CODE</th>\n",
       "      <th>RESIDENTIAL UNITS</th>\n",
       "      <th>COMMERCIAL UNITS</th>\n",
       "      <th>TOTAL UNITS</th>\n",
       "      <th>LAND SQUARE FEET</th>\n",
       "      <th>GROSS SQUARE FEET</th>\n",
       "      <th>YEAR BUILT</th>\n",
       "      <th>TAX CLASS AT TIME OF SALE</th>\n",
       "      <th>BUILDING CLASS AT TIME OF SALE</th>\n",
       "      <th>SALE PRICE</th>\n",
       "      <th>SALE DATE</th>\n",
       "    </tr>\n",
       "  </thead>\n",
       "  <tbody>\n",
       "  </tbody>\n",
       "</table>\n",
       "</div>"
      ],
      "text/plain": [
       "Empty DataFrame\n",
       "Columns: [BOROUGH, NEIGHBORHOOD, BUILDING CLASS CATEGORY, TAX CLASS AT PRESENT, BLOCK, LOT, BUILDING CLASS AT PRESENT, ADDRESS, APARTMENT NUMBER, ZIP CODE, RESIDENTIAL UNITS, COMMERCIAL UNITS, TOTAL UNITS, LAND SQUARE FEET, GROSS SQUARE FEET, YEAR BUILT, TAX CLASS AT TIME OF SALE, BUILDING CLASS AT TIME OF SALE, SALE PRICE, SALE DATE]\n",
       "Index: []"
      ]
     },
     "execution_count": 21,
     "metadata": {},
     "output_type": "execute_result"
    }
   ],
   "source": [
    "nyc[nyc.duplicated(keep=False)].sort_values(['NEIGHBORHOOD', 'ADDRESS']).head(10)"
   ]
  },
  {
   "cell_type": "code",
   "execution_count": 22,
   "metadata": {
    "ExecuteTime": {
     "end_time": "2020-11-10T13:46:00.976444Z",
     "start_time": "2020-11-10T13:46:00.733890Z"
    }
   },
   "outputs": [
    {
     "name": "stdout",
     "output_type": "stream",
     "text": [
      "0\n"
     ]
    }
   ],
   "source": [
    "nyc.drop_duplicates(inplace=True)\n",
    "print(sum(nyc.duplicated()))"
   ]
  },
  {
   "cell_type": "code",
   "execution_count": 23,
   "metadata": {
    "ExecuteTime": {
     "end_time": "2020-11-10T13:46:01.205221Z",
     "start_time": "2020-11-10T13:46:00.986540Z"
    }
   },
   "outputs": [
    {
     "name": "stdout",
     "output_type": "stream",
     "text": [
      "0\n"
     ]
    }
   ],
   "source": [
    "sales.drop_duplicates(inplace=True)\n",
    "print(sum(sales.duplicated()))"
   ]
  },
  {
   "cell_type": "markdown",
   "metadata": {},
   "source": [
    "# Exploratory Data analysis"
   ]
  },
  {
   "cell_type": "code",
   "execution_count": 24,
   "metadata": {
    "ExecuteTime": {
     "end_time": "2020-11-10T13:46:01.343042Z",
     "start_time": "2020-11-10T13:46:01.210525Z"
    }
   },
   "outputs": [
    {
     "data": {
      "text/html": [
       "<div>\n",
       "<style scoped>\n",
       "    .dataframe tbody tr th:only-of-type {\n",
       "        vertical-align: middle;\n",
       "    }\n",
       "\n",
       "    .dataframe tbody tr th {\n",
       "        vertical-align: top;\n",
       "    }\n",
       "\n",
       "    .dataframe thead th {\n",
       "        text-align: right;\n",
       "    }\n",
       "</style>\n",
       "<table border=\"1\" class=\"dataframe\">\n",
       "  <thead>\n",
       "    <tr style=\"text-align: right;\">\n",
       "      <th></th>\n",
       "      <th>BLOCK</th>\n",
       "      <th>LOT</th>\n",
       "      <th>ZIP CODE</th>\n",
       "      <th>RESIDENTIAL UNITS</th>\n",
       "      <th>COMMERCIAL UNITS</th>\n",
       "      <th>TOTAL UNITS</th>\n",
       "      <th>LAND SQUARE FEET</th>\n",
       "      <th>GROSS SQUARE FEET</th>\n",
       "      <th>YEAR BUILT</th>\n",
       "      <th>SALE PRICE</th>\n",
       "    </tr>\n",
       "  </thead>\n",
       "  <tbody>\n",
       "    <tr>\n",
       "      <th>count</th>\n",
       "      <td>78777.000000</td>\n",
       "      <td>78777.000000</td>\n",
       "      <td>78777.000000</td>\n",
       "      <td>78777.000000</td>\n",
       "      <td>78777.0</td>\n",
       "      <td>78777.000000</td>\n",
       "      <td>5.278000e+04</td>\n",
       "      <td>5.278000e+04</td>\n",
       "      <td>78777.000000</td>\n",
       "      <td>6.562900e+04</td>\n",
       "    </tr>\n",
       "    <tr>\n",
       "      <th>mean</th>\n",
       "      <td>4273.781015</td>\n",
       "      <td>395.422420</td>\n",
       "      <td>10722.737068</td>\n",
       "      <td>1.691737</td>\n",
       "      <td>0.0</td>\n",
       "      <td>1.724133</td>\n",
       "      <td>3.140140e+03</td>\n",
       "      <td>2.714612e+03</td>\n",
       "      <td>1781.065451</td>\n",
       "      <td>9.952969e+05</td>\n",
       "    </tr>\n",
       "    <tr>\n",
       "      <th>std</th>\n",
       "      <td>3589.241940</td>\n",
       "      <td>671.604654</td>\n",
       "      <td>1318.493961</td>\n",
       "      <td>9.838994</td>\n",
       "      <td>0.0</td>\n",
       "      <td>9.835016</td>\n",
       "      <td>2.929999e+04</td>\n",
       "      <td>2.791294e+04</td>\n",
       "      <td>551.024570</td>\n",
       "      <td>3.329268e+06</td>\n",
       "    </tr>\n",
       "    <tr>\n",
       "      <th>min</th>\n",
       "      <td>1.000000</td>\n",
       "      <td>1.000000</td>\n",
       "      <td>0.000000</td>\n",
       "      <td>0.000000</td>\n",
       "      <td>0.0</td>\n",
       "      <td>0.000000</td>\n",
       "      <td>0.000000e+00</td>\n",
       "      <td>0.000000e+00</td>\n",
       "      <td>0.000000</td>\n",
       "      <td>0.000000e+00</td>\n",
       "    </tr>\n",
       "    <tr>\n",
       "      <th>25%</th>\n",
       "      <td>1330.000000</td>\n",
       "      <td>23.000000</td>\n",
       "      <td>10304.000000</td>\n",
       "      <td>0.000000</td>\n",
       "      <td>0.0</td>\n",
       "      <td>1.000000</td>\n",
       "      <td>1.600000e+03</td>\n",
       "      <td>9.750000e+02</td>\n",
       "      <td>1920.000000</td>\n",
       "      <td>2.400000e+05</td>\n",
       "    </tr>\n",
       "    <tr>\n",
       "      <th>50%</th>\n",
       "      <td>3340.000000</td>\n",
       "      <td>52.000000</td>\n",
       "      <td>11209.000000</td>\n",
       "      <td>1.000000</td>\n",
       "      <td>0.0</td>\n",
       "      <td>1.000000</td>\n",
       "      <td>2.295000e+03</td>\n",
       "      <td>1.600000e+03</td>\n",
       "      <td>1940.000000</td>\n",
       "      <td>5.294900e+05</td>\n",
       "    </tr>\n",
       "    <tr>\n",
       "      <th>75%</th>\n",
       "      <td>6361.000000</td>\n",
       "      <td>1003.000000</td>\n",
       "      <td>11357.000000</td>\n",
       "      <td>2.000000</td>\n",
       "      <td>0.0</td>\n",
       "      <td>2.000000</td>\n",
       "      <td>3.300000e+03</td>\n",
       "      <td>2.388000e+03</td>\n",
       "      <td>1967.000000</td>\n",
       "      <td>9.219560e+05</td>\n",
       "    </tr>\n",
       "    <tr>\n",
       "      <th>max</th>\n",
       "      <td>16322.000000</td>\n",
       "      <td>9106.000000</td>\n",
       "      <td>11694.000000</td>\n",
       "      <td>889.000000</td>\n",
       "      <td>0.0</td>\n",
       "      <td>889.000000</td>\n",
       "      <td>4.252327e+06</td>\n",
       "      <td>4.252327e+06</td>\n",
       "      <td>2017.000000</td>\n",
       "      <td>3.450000e+08</td>\n",
       "    </tr>\n",
       "  </tbody>\n",
       "</table>\n",
       "</div>"
      ],
      "text/plain": [
       "              BLOCK           LOT      ZIP CODE  RESIDENTIAL UNITS  \\\n",
       "count  78777.000000  78777.000000  78777.000000       78777.000000   \n",
       "mean    4273.781015    395.422420  10722.737068           1.691737   \n",
       "std     3589.241940    671.604654   1318.493961           9.838994   \n",
       "min        1.000000      1.000000      0.000000           0.000000   \n",
       "25%     1330.000000     23.000000  10304.000000           0.000000   \n",
       "50%     3340.000000     52.000000  11209.000000           1.000000   \n",
       "75%     6361.000000   1003.000000  11357.000000           2.000000   \n",
       "max    16322.000000   9106.000000  11694.000000         889.000000   \n",
       "\n",
       "       COMMERCIAL UNITS   TOTAL UNITS  LAND SQUARE FEET  GROSS SQUARE FEET  \\\n",
       "count           78777.0  78777.000000      5.278000e+04       5.278000e+04   \n",
       "mean                0.0      1.724133      3.140140e+03       2.714612e+03   \n",
       "std                 0.0      9.835016      2.929999e+04       2.791294e+04   \n",
       "min                 0.0      0.000000      0.000000e+00       0.000000e+00   \n",
       "25%                 0.0      1.000000      1.600000e+03       9.750000e+02   \n",
       "50%                 0.0      1.000000      2.295000e+03       1.600000e+03   \n",
       "75%                 0.0      2.000000      3.300000e+03       2.388000e+03   \n",
       "max                 0.0    889.000000      4.252327e+06       4.252327e+06   \n",
       "\n",
       "         YEAR BUILT    SALE PRICE  \n",
       "count  78777.000000  6.562900e+04  \n",
       "mean    1781.065451  9.952969e+05  \n",
       "std      551.024570  3.329268e+06  \n",
       "min        0.000000  0.000000e+00  \n",
       "25%     1920.000000  2.400000e+05  \n",
       "50%     1940.000000  5.294900e+05  \n",
       "75%     1967.000000  9.219560e+05  \n",
       "max     2017.000000  3.450000e+08  "
      ]
     },
     "execution_count": 24,
     "metadata": {},
     "output_type": "execute_result"
    }
   ],
   "source": [
    "nyc[nyc['COMMERCIAL UNITS']==0].describe()"
   ]
  },
  {
   "cell_type": "code",
   "execution_count": 25,
   "metadata": {
    "ExecuteTime": {
     "end_time": "2020-11-10T13:46:01.361393Z",
     "start_time": "2020-11-10T13:46:01.349548Z"
    }
   },
   "outputs": [
    {
     "data": {
      "text/plain": [
       "Queens           26548\n",
       "Brooklyn         23843\n",
       "Manhattan        18102\n",
       "Staten Island     8296\n",
       "Bronx             6994\n",
       "Name: BOROUGH, dtype: int64"
      ]
     },
     "execution_count": 25,
     "metadata": {},
     "output_type": "execute_result"
    }
   ],
   "source": [
    "nyc['BOROUGH'].value_counts()"
   ]
  },
  {
   "cell_type": "code",
   "execution_count": 26,
   "metadata": {
    "ExecuteTime": {
     "end_time": "2020-11-10T13:46:01.696456Z",
     "start_time": "2020-11-10T13:46:01.369149Z"
    }
   },
   "outputs": [
    {
     "data": {
      "text/plain": [
       "<matplotlib.axes._subplots.AxesSubplot at 0x7fb8d25a4910>"
      ]
     },
     "execution_count": 26,
     "metadata": {},
     "output_type": "execute_result"
    },
    {
     "data": {
      "image/png": "[encoded data removed]",
      "text/plain": [
       "<Figure size 432x288 with 1 Axes>"
      ]
     },
     "metadata": {
      "needs_background": "light"
     },
     "output_type": "display_data"
    }
   ],
   "source": [
    "nyc['BOROUGH'].value_counts().plot.bar()"
   ]
  },
  {
   "cell_type": "code",
   "execution_count": 27,
   "metadata": {
    "ExecuteTime": {
     "end_time": "2020-11-10T13:46:01.709789Z",
     "start_time": "2020-11-10T13:46:01.706537Z"
    }
   },
   "outputs": [],
   "source": [
    "# the highest number of building located in Queens"
   ]
  },
  {
   "cell_type": "markdown",
   "metadata": {},
   "source": [
    "# Mean, Median, Mode"
   ]
  },
  {
   "cell_type": "code",
   "execution_count": 28,
   "metadata": {
    "ExecuteTime": {
     "end_time": "2020-11-10T13:46:01.724486Z",
     "start_time": "2020-11-10T13:46:01.714211Z"
    }
   },
   "outputs": [
    {
     "data": {
      "text/plain": [
       "1.9999761288089468"
      ]
     },
     "execution_count": 28,
     "metadata": {},
     "output_type": "execute_result"
    }
   ],
   "source": [
    "nyc['RESIDENTIAL UNITS'].mean()"
   ]
  },
  {
   "cell_type": "code",
   "execution_count": 29,
   "metadata": {
    "ExecuteTime": {
     "end_time": "2020-11-10T13:46:01.747912Z",
     "start_time": "2020-11-10T13:46:01.728009Z"
    }
   },
   "outputs": [
    {
     "data": {
      "text/plain": [
       "0.18367687955790554"
      ]
     },
     "execution_count": 29,
     "metadata": {},
     "output_type": "execute_result"
    }
   ],
   "source": [
    "nyc['COMMERCIAL UNITS'].mean()"
   ]
  },
  {
   "cell_type": "code",
   "execution_count": 30,
   "metadata": {
    "ExecuteTime": {
     "end_time": "2020-11-10T13:46:01.787651Z",
     "start_time": "2020-11-10T13:46:01.763056Z"
    }
   },
   "outputs": [
    {
     "data": {
      "text/plain": [
       "2.213503932778726"
      ]
     },
     "execution_count": 30,
     "metadata": {},
     "output_type": "execute_result"
    }
   ],
   "source": [
    "nyc ['TOTAL UNITS'].mean()"
   ]
  },
  {
   "cell_type": "code",
   "execution_count": 31,
   "metadata": {
    "ExecuteTime": {
     "end_time": "2020-11-10T13:46:01.805039Z",
     "start_time": "2020-11-10T13:46:01.793663Z"
    }
   },
   "outputs": [
    {
     "data": {
      "text/plain": [
       "1280703.0003016938"
      ]
     },
     "execution_count": 31,
     "metadata": {},
     "output_type": "execute_result"
    }
   ],
   "source": [
    "nyc ['SALE PRICE'].mean()"
   ]
  },
  {
   "cell_type": "code",
   "execution_count": 32,
   "metadata": {
    "ExecuteTime": {
     "end_time": "2020-11-10T13:46:01.843348Z",
     "start_time": "2020-11-10T13:46:01.812541Z"
    }
   },
   "outputs": [
    {
     "data": {
      "text/plain": [
       "1.0"
      ]
     },
     "execution_count": 32,
     "metadata": {},
     "output_type": "execute_result"
    }
   ],
   "source": [
    "nyc['RESIDENTIAL UNITS'].median()"
   ]
  },
  {
   "cell_type": "code",
   "execution_count": 33,
   "metadata": {
    "ExecuteTime": {
     "end_time": "2020-11-10T13:46:01.865084Z",
     "start_time": "2020-11-10T13:46:01.853850Z"
    }
   },
   "outputs": [
    {
     "data": {
      "text/plain": [
       "0.0"
      ]
     },
     "execution_count": 33,
     "metadata": {},
     "output_type": "execute_result"
    }
   ],
   "source": [
    "nyc['COMMERCIAL UNITS'].median()"
   ]
  },
  {
   "cell_type": "code",
   "execution_count": 34,
   "metadata": {
    "ExecuteTime": {
     "end_time": "2020-11-10T13:46:01.883609Z",
     "start_time": "2020-11-10T13:46:01.872106Z"
    }
   },
   "outputs": [
    {
     "data": {
      "text/plain": [
       "1.0"
      ]
     },
     "execution_count": 34,
     "metadata": {},
     "output_type": "execute_result"
    }
   ],
   "source": [
    "nyc ['TOTAL UNITS'].median()"
   ]
  },
  {
   "cell_type": "code",
   "execution_count": 35,
   "metadata": {
    "ExecuteTime": {
     "end_time": "2020-11-10T13:46:01.910579Z",
     "start_time": "2020-11-10T13:46:01.889190Z"
    }
   },
   "outputs": [
    {
     "data": {
      "text/plain": [
       "533000.0"
      ]
     },
     "execution_count": 35,
     "metadata": {},
     "output_type": "execute_result"
    }
   ],
   "source": [
    "nyc ['SALE PRICE'].median()"
   ]
  },
  {
   "cell_type": "code",
   "execution_count": 36,
   "metadata": {
    "ExecuteTime": {
     "end_time": "2020-11-10T13:46:02.449354Z",
     "start_time": "2020-11-10T13:46:01.926417Z"
    }
   },
   "outputs": [
    {
     "data": {
      "text/plain": [
       "BLOCK                  6630.747589\n",
       "LOT                     230.493672\n",
       "ZIP CODE              11300.423572\n",
       "RESIDENTIAL UNITS         1.687283\n",
       "COMMERCIAL UNITS          0.190410\n",
       "TOTAL UNITS               1.908920\n",
       "LAND SQUARE FEET       4265.245190\n",
       "GROSS SQUARE FEET      3345.841693\n",
       "YEAR BUILT             1852.259982\n",
       "SALE PRICE           738882.658392\n",
       "dtype: float64"
      ]
     },
     "execution_count": 36,
     "metadata": {},
     "output_type": "execute_result"
    }
   ],
   "source": [
    "nyc[nyc['BOROUGH'] == 'Queens'].mean()"
   ]
  },
  {
   "cell_type": "code",
   "execution_count": 37,
   "metadata": {
    "ExecuteTime": {
     "end_time": "2020-11-10T13:46:02.477904Z",
     "start_time": "2020-11-10T13:46:02.453576Z"
    }
   },
   "outputs": [
    {
     "data": {
      "text/plain": [
       "BLOCK                  5900.0\n",
       "LOT                      40.0\n",
       "ZIP CODE              11375.0\n",
       "RESIDENTIAL UNITS         1.0\n",
       "COMMERCIAL UNITS          0.0\n",
       "TOTAL UNITS               1.0\n",
       "LAND SQUARE FEET       2768.0\n",
       "GROSS SQUARE FEET      1728.0\n",
       "YEAR BUILT             1945.0\n",
       "SALE PRICE           495000.0\n",
       "dtype: float64"
      ]
     },
     "execution_count": 37,
     "metadata": {},
     "output_type": "execute_result"
    }
   ],
   "source": [
    "nyc[nyc['BOROUGH'] == 'Queens'].median()"
   ]
  },
  {
   "cell_type": "code",
   "execution_count": 38,
   "metadata": {
    "ExecuteTime": {
     "end_time": "2020-11-10T13:46:02.622094Z",
     "start_time": "2020-11-10T13:46:02.484820Z"
    }
   },
   "outputs": [
    {
     "data": {
      "text/html": [
       "<div>\n",
       "<style scoped>\n",
       "    .dataframe tbody tr th:only-of-type {\n",
       "        vertical-align: middle;\n",
       "    }\n",
       "\n",
       "    .dataframe tbody tr th {\n",
       "        vertical-align: top;\n",
       "    }\n",
       "\n",
       "    .dataframe thead th {\n",
       "        text-align: right;\n",
       "    }\n",
       "</style>\n",
       "<table border=\"1\" class=\"dataframe\">\n",
       "  <thead>\n",
       "    <tr style=\"text-align: right;\">\n",
       "      <th></th>\n",
       "      <th>BOROUGH</th>\n",
       "      <th>NEIGHBORHOOD</th>\n",
       "      <th>BUILDING CLASS CATEGORY</th>\n",
       "      <th>TAX CLASS AT PRESENT</th>\n",
       "      <th>BLOCK</th>\n",
       "      <th>LOT</th>\n",
       "      <th>BUILDING CLASS AT PRESENT</th>\n",
       "      <th>ADDRESS</th>\n",
       "      <th>APARTMENT NUMBER</th>\n",
       "      <th>ZIP CODE</th>\n",
       "      <th>RESIDENTIAL UNITS</th>\n",
       "      <th>COMMERCIAL UNITS</th>\n",
       "      <th>TOTAL UNITS</th>\n",
       "      <th>LAND SQUARE FEET</th>\n",
       "      <th>GROSS SQUARE FEET</th>\n",
       "      <th>YEAR BUILT</th>\n",
       "      <th>TAX CLASS AT TIME OF SALE</th>\n",
       "      <th>BUILDING CLASS AT TIME OF SALE</th>\n",
       "      <th>SALE PRICE</th>\n",
       "      <th>SALE DATE</th>\n",
       "    </tr>\n",
       "  </thead>\n",
       "  <tbody>\n",
       "    <tr>\n",
       "      <th>0</th>\n",
       "      <td>Queens</td>\n",
       "      <td>FLUSHING-NORTH</td>\n",
       "      <td>01 ONE FAMILY DWELLINGS</td>\n",
       "      <td>1</td>\n",
       "      <td>5066</td>\n",
       "      <td>1</td>\n",
       "      <td>A1</td>\n",
       "      <td>131-05 40TH   ROAD</td>\n",
       "      <td></td>\n",
       "      <td>11354</td>\n",
       "      <td>1</td>\n",
       "      <td>0</td>\n",
       "      <td>1</td>\n",
       "      <td>4000.0</td>\n",
       "      <td>2000.0</td>\n",
       "      <td>1920</td>\n",
       "      <td>1</td>\n",
       "      <td>A1</td>\n",
       "      <td>10.0</td>\n",
       "      <td>2016-11-10</td>\n",
       "    </tr>\n",
       "  </tbody>\n",
       "</table>\n",
       "</div>"
      ],
      "text/plain": [
       "  BOROUGH    NEIGHBORHOOD                      BUILDING CLASS CATEGORY  \\\n",
       "0  Queens  FLUSHING-NORTH  01 ONE FAMILY DWELLINGS                       \n",
       "\n",
       "  TAX CLASS AT PRESENT  BLOCK  LOT BUILDING CLASS AT PRESENT  \\\n",
       "0                    1   5066    1                        A1   \n",
       "\n",
       "              ADDRESS APARTMENT NUMBER  ZIP CODE  RESIDENTIAL UNITS  \\\n",
       "0  131-05 40TH   ROAD                      11354                  1   \n",
       "\n",
       "   COMMERCIAL UNITS  TOTAL UNITS  LAND SQUARE FEET  GROSS SQUARE FEET  \\\n",
       "0                 0            1            4000.0             2000.0   \n",
       "\n",
       "   YEAR BUILT TAX CLASS AT TIME OF SALE BUILDING CLASS AT TIME OF SALE  \\\n",
       "0        1920                         1                             A1   \n",
       "\n",
       "   SALE PRICE  SALE DATE  \n",
       "0        10.0 2016-11-10  "
      ]
     },
     "execution_count": 38,
     "metadata": {},
     "output_type": "execute_result"
    }
   ],
   "source": [
    "nyc[nyc['BOROUGH'] == 'Queens'].mode()"
   ]
  },
  {
   "cell_type": "code",
   "execution_count": 39,
   "metadata": {
    "ExecuteTime": {
     "end_time": "2020-11-10T13:46:03.377478Z",
     "start_time": "2020-11-10T13:46:02.626375Z"
    }
   },
   "outputs": [
    {
     "data": {
      "text/plain": [
       "<matplotlib.axes._subplots.AxesSubplot at 0x7fb8d2861b80>"
      ]
     },
     "execution_count": 39,
     "metadata": {},
     "output_type": "execute_result"
    },
    {
     "data": {
      "image/png": "[encoded data removed]",
      "text/plain": [
       "<Figure size 720x720 with 1 Axes>"
      ]
     },
     "metadata": {
      "needs_background": "light"
     },
     "output_type": "display_data"
    }
   ],
   "source": [
    "nyc['BUILDING CLASS CATEGORY'].value_counts().plot(kind='barh',figsize =(10, 10), color = 'green')"
   ]
  },
  {
   "cell_type": "code",
   "execution_count": 40,
   "metadata": {
    "ExecuteTime": {
     "end_time": "2020-11-10T13:46:03.399633Z",
     "start_time": "2020-11-10T13:46:03.383729Z"
    }
   },
   "outputs": [
    {
     "data": {
      "text/plain": [
       "FLUSHING-NORTH              3058\n",
       "UPPER EAST SIDE (59-79)     1729\n",
       "UPPER EAST SIDE (79-96)     1582\n",
       "BEDFORD STUYVESANT          1429\n",
       "UPPER WEST SIDE (59-79)     1415\n",
       "                            ... \n",
       "VAN CORTLANDT PARK             2\n",
       "PELHAM BAY                     1\n",
       "BRONX PARK                     1\n",
       "CITY ISLAND-PELHAM STRIP       1\n",
       "EAST RIVER                     1\n",
       "Name: NEIGHBORHOOD, Length: 254, dtype: int64"
      ]
     },
     "execution_count": 40,
     "metadata": {},
     "output_type": "execute_result"
    }
   ],
   "source": [
    "nyc['NEIGHBORHOOD'].value_counts()"
   ]
  },
  {
   "cell_type": "code",
   "execution_count": 41,
   "metadata": {
    "ExecuteTime": {
     "end_time": "2020-11-10T13:46:03.428422Z",
     "start_time": "2020-11-10T13:46:03.403335Z"
    }
   },
   "outputs": [
    {
     "data": {
      "text/plain": [
       "123.94313183709575"
      ]
     },
     "execution_count": 41,
     "metadata": {},
     "output_type": "execute_result"
    }
   ],
   "source": [
    "#skewness of SalePrice\n",
    "sales['SALE PRICE'].skew()"
   ]
  },
  {
   "cell_type": "code",
   "execution_count": 42,
   "metadata": {
    "ExecuteTime": {
     "end_time": "2020-11-10T13:46:03.474459Z",
     "start_time": "2020-11-10T13:46:03.446969Z"
    }
   },
   "outputs": [
    {
     "data": {
      "text/html": [
       "<div>\n",
       "<style scoped>\n",
       "    .dataframe tbody tr th:only-of-type {\n",
       "        vertical-align: middle;\n",
       "    }\n",
       "\n",
       "    .dataframe tbody tr th {\n",
       "        vertical-align: top;\n",
       "    }\n",
       "\n",
       "    .dataframe thead th {\n",
       "        text-align: right;\n",
       "    }\n",
       "</style>\n",
       "<table border=\"1\" class=\"dataframe\">\n",
       "  <thead>\n",
       "    <tr style=\"text-align: right;\">\n",
       "      <th></th>\n",
       "      <th>TOTAL UNITS</th>\n",
       "      <th>SALE PRICE</th>\n",
       "    </tr>\n",
       "  </thead>\n",
       "  <tbody>\n",
       "    <tr>\n",
       "      <th>1</th>\n",
       "      <td>1</td>\n",
       "      <td>30550</td>\n",
       "    </tr>\n",
       "    <tr>\n",
       "      <th>0</th>\n",
       "      <td>0</td>\n",
       "      <td>17583</td>\n",
       "    </tr>\n",
       "    <tr>\n",
       "      <th>2</th>\n",
       "      <td>2</td>\n",
       "      <td>13021</td>\n",
       "    </tr>\n",
       "    <tr>\n",
       "      <th>3</th>\n",
       "      <td>3</td>\n",
       "      <td>4478</td>\n",
       "    </tr>\n",
       "    <tr>\n",
       "      <th>4</th>\n",
       "      <td>4</td>\n",
       "      <td>1275</td>\n",
       "    </tr>\n",
       "    <tr>\n",
       "      <th>...</th>\n",
       "      <td>...</td>\n",
       "      <td>...</td>\n",
       "    </tr>\n",
       "    <tr>\n",
       "      <th>114</th>\n",
       "      <td>136</td>\n",
       "      <td>1</td>\n",
       "    </tr>\n",
       "    <tr>\n",
       "      <th>113</th>\n",
       "      <td>135</td>\n",
       "      <td>1</td>\n",
       "    </tr>\n",
       "    <tr>\n",
       "      <th>112</th>\n",
       "      <td>132</td>\n",
       "      <td>1</td>\n",
       "    </tr>\n",
       "    <tr>\n",
       "      <th>111</th>\n",
       "      <td>130</td>\n",
       "      <td>1</td>\n",
       "    </tr>\n",
       "    <tr>\n",
       "      <th>168</th>\n",
       "      <td>2261</td>\n",
       "      <td>1</td>\n",
       "    </tr>\n",
       "  </tbody>\n",
       "</table>\n",
       "<p>169 rows × 2 columns</p>\n",
       "</div>"
      ],
      "text/plain": [
       "     TOTAL UNITS  SALE PRICE\n",
       "1              1       30550\n",
       "0              0       17583\n",
       "2              2       13021\n",
       "3              3        4478\n",
       "4              4        1275\n",
       "..           ...         ...\n",
       "114          136           1\n",
       "113          135           1\n",
       "112          132           1\n",
       "111          130           1\n",
       "168         2261           1\n",
       "\n",
       "[169 rows x 2 columns]"
      ]
     },
     "execution_count": 42,
     "metadata": {},
     "output_type": "execute_result"
    }
   ],
   "source": [
    "sales[[\"TOTAL UNITS\", \"SALE PRICE\"]].groupby(['TOTAL UNITS'], as_index=False).count().sort_values(by='SALE PRICE', ascending=False)"
   ]
  },
  {
   "cell_type": "code",
   "execution_count": 43,
   "metadata": {
    "ExecuteTime": {
     "end_time": "2020-11-10T13:46:03.508756Z",
     "start_time": "2020-11-10T13:46:03.479611Z"
    }
   },
   "outputs": [
    {
     "data": {
      "text/plain": [
       "((83783, 19), (83783,))"
      ]
     },
     "execution_count": 43,
     "metadata": {},
     "output_type": "execute_result"
    }
   ],
   "source": [
    "Y = nyc['SALE PRICE']\n",
    "X = nyc.drop('SALE PRICE', axis=1)\n",
    "\n",
    "X.shape , Y.shape"
   ]
  },
  {
   "cell_type": "code",
   "execution_count": 44,
   "metadata": {
    "ExecuteTime": {
     "end_time": "2020-11-10T13:46:03.519787Z",
     "start_time": "2020-11-10T13:46:03.514835Z"
    }
   },
   "outputs": [],
   "source": [
    "model = LinearRegression ()"
   ]
  },
  {
   "cell_type": "code",
   "execution_count": 45,
   "metadata": {
    "ExecuteTime": {
     "end_time": "2020-11-10T13:46:03.665006Z",
     "start_time": "2020-11-10T13:46:03.526811Z"
    }
   },
   "outputs": [],
   "source": [
    "from sklearn.model_selection import train_test_split\n",
    "\n",
    "features = sales.drop([\"SALE PRICE\"], axis = 1)\n",
    "target = sales[\"SALE PRICE\"]\n",
    "\n",
    "x_train, x_test, y_train, y_test = train_test_split(features, target, test_size = 0.3)"
   ]
  },
  {
   "cell_type": "code",
   "execution_count": 46,
   "metadata": {
    "ExecuteTime": {
     "end_time": "2020-11-10T13:46:03.768615Z",
     "start_time": "2020-11-10T13:46:03.669155Z"
    }
   },
   "outputs": [],
   "source": [
    "X_train ,X_test, Y_train , Y_test = train_test_split(X , Y , test_size = 0.3 , random_state =34)"
   ]
  },
  {
   "cell_type": "code",
   "execution_count": 47,
   "metadata": {
    "ExecuteTime": {
     "end_time": "2020-11-10T13:46:03.786957Z",
     "start_time": "2020-11-10T13:46:03.774001Z"
    }
   },
   "outputs": [
    {
     "data": {
      "text/plain": [
       "((58648, 19), (58648,))"
      ]
     },
     "execution_count": 47,
     "metadata": {},
     "output_type": "execute_result"
    }
   ],
   "source": [
    "X_train.shape , Y_train.shape"
   ]
  },
  {
   "cell_type": "code",
   "execution_count": 48,
   "metadata": {
    "ExecuteTime": {
     "end_time": "2020-11-10T13:46:03.808126Z",
     "start_time": "2020-11-10T13:46:03.794353Z"
    }
   },
   "outputs": [
    {
     "data": {
      "text/plain": [
       "((25135, 19), (25135,))"
      ]
     },
     "execution_count": 48,
     "metadata": {},
     "output_type": "execute_result"
    }
   ],
   "source": [
    "X_test.shape , Y_test.shape"
   ]
  },
  {
   "cell_type": "code",
   "execution_count": 49,
   "metadata": {
    "ExecuteTime": {
     "end_time": "2020-11-10T13:46:03.882272Z",
     "start_time": "2020-11-10T13:46:03.814223Z"
    }
   },
   "outputs": [
    {
     "name": "stdout",
     "output_type": "stream",
     "text": [
      "<class 'pandas.core.frame.DataFrame'>\n",
      "Int64Index: 83783 entries, 0 to 84547\n",
      "Data columns (total 20 columns):\n",
      " #   Column                          Non-Null Count  Dtype         \n",
      "---  ------                          --------------  -----         \n",
      " 0   BOROUGH                         83783 non-null  category      \n",
      " 1   NEIGHBORHOOD                    83783 non-null  category      \n",
      " 2   BUILDING CLASS CATEGORY         83783 non-null  category      \n",
      " 3   TAX CLASS AT PRESENT            83783 non-null  category      \n",
      " 4   BLOCK                           83783 non-null  int64         \n",
      " 5   LOT                             83783 non-null  int64         \n",
      " 6   BUILDING CLASS AT PRESENT       83783 non-null  category      \n",
      " 7   ADDRESS                         83783 non-null  object        \n",
      " 8   APARTMENT NUMBER                83783 non-null  object        \n",
      " 9   ZIP CODE                        83783 non-null  int64         \n",
      " 10  RESIDENTIAL UNITS               83783 non-null  int64         \n",
      " 11  COMMERCIAL UNITS                83783 non-null  int64         \n",
      " 12  TOTAL UNITS                     83783 non-null  int64         \n",
      " 13  LAND SQUARE FEET                57734 non-null  float64       \n",
      " 14  GROSS SQUARE FEET               57734 non-null  float64       \n",
      " 15  YEAR BUILT                      83783 non-null  int64         \n",
      " 16  TAX CLASS AT TIME OF SALE       83783 non-null  category      \n",
      " 17  BUILDING CLASS AT TIME OF SALE  83783 non-null  category      \n",
      " 18  SALE PRICE                      69607 non-null  float64       \n",
      " 19  SALE DATE                       83783 non-null  datetime64[ns]\n",
      "dtypes: category(7), datetime64[ns](1), float64(3), int64(7), object(2)\n",
      "memory usage: 9.8+ MB\n"
     ]
    }
   ],
   "source": [
    "nyc.info()"
   ]
  },
  {
   "cell_type": "code",
   "execution_count": 50,
   "metadata": {
    "ExecuteTime": {
     "end_time": "2020-11-10T13:46:04.765815Z",
     "start_time": "2020-11-10T13:46:03.892262Z"
    }
   },
   "outputs": [
    {
     "ename": "ValueError",
     "evalue": "could not convert string to float: 'Bronx'",
     "output_type": "error",
     "traceback": [
      "\u001b[0;31m---------------------------------------------------------------------------\u001b[0m",
      "\u001b[0;31mValueError\u001b[0m                                Traceback (most recent call last)",
      "\u001b[0;32m<ipython-input-50-18432982f5b5>\u001b[0m in \u001b[0;36m<module>\u001b[0;34m\u001b[0m\n\u001b[1;32m      3\u001b[0m \u001b[0;34m\u001b[0m\u001b[0m\n\u001b[1;32m      4\u001b[0m \u001b[0mlr\u001b[0m \u001b[0;34m=\u001b[0m \u001b[0mLinearRegression\u001b[0m\u001b[0;34m(\u001b[0m\u001b[0mnormalize\u001b[0m \u001b[0;34m=\u001b[0m \u001b[0;32mTrue\u001b[0m\u001b[0;34m)\u001b[0m\u001b[0;34m\u001b[0m\u001b[0;34m\u001b[0m\u001b[0m\n\u001b[0;32m----> 5\u001b[0;31m \u001b[0mlr\u001b[0m\u001b[0;34m.\u001b[0m\u001b[0mfit\u001b[0m\u001b[0;34m(\u001b[0m\u001b[0mx_train\u001b[0m\u001b[0;34m,\u001b[0m \u001b[0my_train\u001b[0m\u001b[0;34m)\u001b[0m\u001b[0;34m\u001b[0m\u001b[0;34m\u001b[0m\u001b[0m\n\u001b[0m\u001b[1;32m      6\u001b[0m \u001b[0my_pred\u001b[0m \u001b[0;34m=\u001b[0m \u001b[0mlr\u001b[0m\u001b[0;34m.\u001b[0m\u001b[0mpredict\u001b[0m\u001b[0;34m(\u001b[0m\u001b[0mx_test\u001b[0m\u001b[0;34m)\u001b[0m\u001b[0;34m\u001b[0m\u001b[0;34m\u001b[0m\u001b[0m\n\u001b[1;32m      7\u001b[0m \u001b[0mprint\u001b[0m\u001b[0;34m(\u001b[0m\u001b[0mlr\u001b[0m\u001b[0;34m.\u001b[0m\u001b[0mscore\u001b[0m\u001b[0;34m(\u001b[0m\u001b[0mx_test\u001b[0m\u001b[0;34m,\u001b[0m \u001b[0my_test\u001b[0m\u001b[0;34m)\u001b[0m\u001b[0;34m)\u001b[0m\u001b[0;34m\u001b[0m\u001b[0;34m\u001b[0m\u001b[0m\n",
      "\u001b[0;32m~/opt/anaconda3/lib/python3.8/site-packages/sklearn/linear_model/_base.py\u001b[0m in \u001b[0;36mfit\u001b[0;34m(self, X, y, sample_weight)\u001b[0m\n\u001b[1;32m    503\u001b[0m \u001b[0;34m\u001b[0m\u001b[0m\n\u001b[1;32m    504\u001b[0m         \u001b[0mn_jobs_\u001b[0m \u001b[0;34m=\u001b[0m \u001b[0mself\u001b[0m\u001b[0;34m.\u001b[0m\u001b[0mn_jobs\u001b[0m\u001b[0;34m\u001b[0m\u001b[0;34m\u001b[0m\u001b[0m\n\u001b[0;32m--> 505\u001b[0;31m         X, y = self._validate_data(X, y, accept_sparse=['csr', 'csc', 'coo'],\n\u001b[0m\u001b[1;32m    506\u001b[0m                                    y_numeric=True, multi_output=True)\n\u001b[1;32m    507\u001b[0m \u001b[0;34m\u001b[0m\u001b[0m\n",
      "\u001b[0;32m~/opt/anaconda3/lib/python3.8/site-packages/sklearn/base.py\u001b[0m in \u001b[0;36m_validate_data\u001b[0;34m(self, X, y, reset, validate_separately, **check_params)\u001b[0m\n\u001b[1;32m    430\u001b[0m                 \u001b[0my\u001b[0m \u001b[0;34m=\u001b[0m \u001b[0mcheck_array\u001b[0m\u001b[0;34m(\u001b[0m\u001b[0my\u001b[0m\u001b[0;34m,\u001b[0m \u001b[0;34m**\u001b[0m\u001b[0mcheck_y_params\u001b[0m\u001b[0;34m)\u001b[0m\u001b[0;34m\u001b[0m\u001b[0;34m\u001b[0m\u001b[0m\n\u001b[1;32m    431\u001b[0m             \u001b[0;32melse\u001b[0m\u001b[0;34m:\u001b[0m\u001b[0;34m\u001b[0m\u001b[0;34m\u001b[0m\u001b[0m\n\u001b[0;32m--> 432\u001b[0;31m                 \u001b[0mX\u001b[0m\u001b[0;34m,\u001b[0m \u001b[0my\u001b[0m \u001b[0;34m=\u001b[0m \u001b[0mcheck_X_y\u001b[0m\u001b[0;34m(\u001b[0m\u001b[0mX\u001b[0m\u001b[0;34m,\u001b[0m \u001b[0my\u001b[0m\u001b[0;34m,\u001b[0m \u001b[0;34m**\u001b[0m\u001b[0mcheck_params\u001b[0m\u001b[0;34m)\u001b[0m\u001b[0;34m\u001b[0m\u001b[0;34m\u001b[0m\u001b[0m\n\u001b[0m\u001b[1;32m    433\u001b[0m             \u001b[0mout\u001b[0m \u001b[0;34m=\u001b[0m \u001b[0mX\u001b[0m\u001b[0;34m,\u001b[0m \u001b[0my\u001b[0m\u001b[0;34m\u001b[0m\u001b[0;34m\u001b[0m\u001b[0m\n\u001b[1;32m    434\u001b[0m \u001b[0;34m\u001b[0m\u001b[0m\n",
      "\u001b[0;32m~/opt/anaconda3/lib/python3.8/site-packages/sklearn/utils/validation.py\u001b[0m in \u001b[0;36minner_f\u001b[0;34m(*args, **kwargs)\u001b[0m\n\u001b[1;32m     71\u001b[0m                           FutureWarning)\n\u001b[1;32m     72\u001b[0m         \u001b[0mkwargs\u001b[0m\u001b[0;34m.\u001b[0m\u001b[0mupdate\u001b[0m\u001b[0;34m(\u001b[0m\u001b[0;34m{\u001b[0m\u001b[0mk\u001b[0m\u001b[0;34m:\u001b[0m \u001b[0marg\u001b[0m \u001b[0;32mfor\u001b[0m \u001b[0mk\u001b[0m\u001b[0;34m,\u001b[0m \u001b[0marg\u001b[0m \u001b[0;32min\u001b[0m \u001b[0mzip\u001b[0m\u001b[0;34m(\u001b[0m\u001b[0msig\u001b[0m\u001b[0;34m.\u001b[0m\u001b[0mparameters\u001b[0m\u001b[0;34m,\u001b[0m \u001b[0margs\u001b[0m\u001b[0;34m)\u001b[0m\u001b[0;34m}\u001b[0m\u001b[0;34m)\u001b[0m\u001b[0;34m\u001b[0m\u001b[0;34m\u001b[0m\u001b[0m\n\u001b[0;32m---> 73\u001b[0;31m         \u001b[0;32mreturn\u001b[0m \u001b[0mf\u001b[0m\u001b[0;34m(\u001b[0m\u001b[0;34m**\u001b[0m\u001b[0mkwargs\u001b[0m\u001b[0;34m)\u001b[0m\u001b[0;34m\u001b[0m\u001b[0;34m\u001b[0m\u001b[0m\n\u001b[0m\u001b[1;32m     74\u001b[0m     \u001b[0;32mreturn\u001b[0m \u001b[0minner_f\u001b[0m\u001b[0;34m\u001b[0m\u001b[0;34m\u001b[0m\u001b[0m\n\u001b[1;32m     75\u001b[0m \u001b[0;34m\u001b[0m\u001b[0m\n",
      "\u001b[0;32m~/opt/anaconda3/lib/python3.8/site-packages/sklearn/utils/validation.py\u001b[0m in \u001b[0;36mcheck_X_y\u001b[0;34m(X, y, accept_sparse, accept_large_sparse, dtype, order, copy, force_all_finite, ensure_2d, allow_nd, multi_output, ensure_min_samples, ensure_min_features, y_numeric, estimator)\u001b[0m\n\u001b[1;32m    794\u001b[0m         \u001b[0;32mraise\u001b[0m \u001b[0mValueError\u001b[0m\u001b[0;34m(\u001b[0m\u001b[0;34m\"y cannot be None\"\u001b[0m\u001b[0;34m)\u001b[0m\u001b[0;34m\u001b[0m\u001b[0;34m\u001b[0m\u001b[0m\n\u001b[1;32m    795\u001b[0m \u001b[0;34m\u001b[0m\u001b[0m\n\u001b[0;32m--> 796\u001b[0;31m     X = check_array(X, accept_sparse=accept_sparse,\n\u001b[0m\u001b[1;32m    797\u001b[0m                     \u001b[0maccept_large_sparse\u001b[0m\u001b[0;34m=\u001b[0m\u001b[0maccept_large_sparse\u001b[0m\u001b[0;34m,\u001b[0m\u001b[0;34m\u001b[0m\u001b[0;34m\u001b[0m\u001b[0m\n\u001b[1;32m    798\u001b[0m                     \u001b[0mdtype\u001b[0m\u001b[0;34m=\u001b[0m\u001b[0mdtype\u001b[0m\u001b[0;34m,\u001b[0m \u001b[0morder\u001b[0m\u001b[0;34m=\u001b[0m\u001b[0morder\u001b[0m\u001b[0;34m,\u001b[0m \u001b[0mcopy\u001b[0m\u001b[0;34m=\u001b[0m\u001b[0mcopy\u001b[0m\u001b[0;34m,\u001b[0m\u001b[0;34m\u001b[0m\u001b[0;34m\u001b[0m\u001b[0m\n",
      "\u001b[0;32m~/opt/anaconda3/lib/python3.8/site-packages/sklearn/utils/validation.py\u001b[0m in \u001b[0;36minner_f\u001b[0;34m(*args, **kwargs)\u001b[0m\n\u001b[1;32m     71\u001b[0m                           FutureWarning)\n\u001b[1;32m     72\u001b[0m         \u001b[0mkwargs\u001b[0m\u001b[0;34m.\u001b[0m\u001b[0mupdate\u001b[0m\u001b[0;34m(\u001b[0m\u001b[0;34m{\u001b[0m\u001b[0mk\u001b[0m\u001b[0;34m:\u001b[0m \u001b[0marg\u001b[0m \u001b[0;32mfor\u001b[0m \u001b[0mk\u001b[0m\u001b[0;34m,\u001b[0m \u001b[0marg\u001b[0m \u001b[0;32min\u001b[0m \u001b[0mzip\u001b[0m\u001b[0;34m(\u001b[0m\u001b[0msig\u001b[0m\u001b[0;34m.\u001b[0m\u001b[0mparameters\u001b[0m\u001b[0;34m,\u001b[0m \u001b[0margs\u001b[0m\u001b[0;34m)\u001b[0m\u001b[0;34m}\u001b[0m\u001b[0;34m)\u001b[0m\u001b[0;34m\u001b[0m\u001b[0;34m\u001b[0m\u001b[0m\n\u001b[0;32m---> 73\u001b[0;31m         \u001b[0;32mreturn\u001b[0m \u001b[0mf\u001b[0m\u001b[0;34m(\u001b[0m\u001b[0;34m**\u001b[0m\u001b[0mkwargs\u001b[0m\u001b[0;34m)\u001b[0m\u001b[0;34m\u001b[0m\u001b[0;34m\u001b[0m\u001b[0m\n\u001b[0m\u001b[1;32m     74\u001b[0m     \u001b[0;32mreturn\u001b[0m \u001b[0minner_f\u001b[0m\u001b[0;34m\u001b[0m\u001b[0;34m\u001b[0m\u001b[0m\n\u001b[1;32m     75\u001b[0m \u001b[0;34m\u001b[0m\u001b[0m\n",
      "\u001b[0;32m~/opt/anaconda3/lib/python3.8/site-packages/sklearn/utils/validation.py\u001b[0m in \u001b[0;36mcheck_array\u001b[0;34m(array, accept_sparse, accept_large_sparse, dtype, order, copy, force_all_finite, ensure_2d, allow_nd, ensure_min_samples, ensure_min_features, estimator)\u001b[0m\n\u001b[1;32m    637\u001b[0m         \u001b[0;31m# make sure we actually converted to numeric:\u001b[0m\u001b[0;34m\u001b[0m\u001b[0;34m\u001b[0m\u001b[0;34m\u001b[0m\u001b[0m\n\u001b[1;32m    638\u001b[0m         \u001b[0;32mif\u001b[0m \u001b[0mdtype_numeric\u001b[0m \u001b[0;32mand\u001b[0m \u001b[0marray\u001b[0m\u001b[0;34m.\u001b[0m\u001b[0mdtype\u001b[0m\u001b[0;34m.\u001b[0m\u001b[0mkind\u001b[0m \u001b[0;34m==\u001b[0m \u001b[0;34m\"O\"\u001b[0m\u001b[0;34m:\u001b[0m\u001b[0;34m\u001b[0m\u001b[0;34m\u001b[0m\u001b[0m\n\u001b[0;32m--> 639\u001b[0;31m             \u001b[0marray\u001b[0m \u001b[0;34m=\u001b[0m \u001b[0marray\u001b[0m\u001b[0;34m.\u001b[0m\u001b[0mastype\u001b[0m\u001b[0;34m(\u001b[0m\u001b[0mnp\u001b[0m\u001b[0;34m.\u001b[0m\u001b[0mfloat64\u001b[0m\u001b[0;34m)\u001b[0m\u001b[0;34m\u001b[0m\u001b[0;34m\u001b[0m\u001b[0m\n\u001b[0m\u001b[1;32m    640\u001b[0m         \u001b[0;32mif\u001b[0m \u001b[0;32mnot\u001b[0m \u001b[0mallow_nd\u001b[0m \u001b[0;32mand\u001b[0m \u001b[0marray\u001b[0m\u001b[0;34m.\u001b[0m\u001b[0mndim\u001b[0m \u001b[0;34m>=\u001b[0m \u001b[0;36m3\u001b[0m\u001b[0;34m:\u001b[0m\u001b[0;34m\u001b[0m\u001b[0;34m\u001b[0m\u001b[0m\n\u001b[1;32m    641\u001b[0m             raise ValueError(\"Found array with dim %d. %s expected <= 2.\"\n",
      "\u001b[0;31mValueError\u001b[0m: could not convert string to float: 'Bronx'"
     ]
    }
   ],
   "source": [
    "from sklearn.linear_model import LinearRegression\n",
    "from sklearn.metrics import mean_squared_error\n",
    "\n",
    "lr = LinearRegression(normalize = True)\n",
    "lr.fit(x_train, y_train)\n",
    "y_pred = lr.predict(x_test)\n",
    "print(lr.score(x_test, y_test))\n",
    "print(mean_squared_error(y_test, y_pred) ** 0.5)"
   ]
  },
  {
   "cell_type": "code",
   "execution_count": 51,
   "metadata": {
    "ExecuteTime": {
     "end_time": "2020-11-10T13:46:38.529034Z",
     "start_time": "2020-11-10T13:46:38.509106Z"
    }
   },
   "outputs": [],
   "source": [
    "# udah coba ubah sale price ke numeric tapi ga berhasil juga :("
   ]
  },
  {
   "cell_type": "code",
   "execution_count": null,
   "metadata": {},
   "outputs": [],
   "source": []
  }
 ],
 "metadata": {
  "kernelspec": {
   "display_name": "Python 3",
   "language": "python",
   "name": "python3"
  },
  "language_info": {
   "codemirror_mode": {
    "name": "ipython",
    "version": 3
   },
   "file_extension": ".py",
   "mimetype": "text/x-python",
   "name": "python",
   "nbconvert_exporter": "python",
   "pygments_lexer": "ipython3",
   "version": "3.8.3"
  }
 },
 "nbformat": 4,
 "nbformat_minor": 4
}
